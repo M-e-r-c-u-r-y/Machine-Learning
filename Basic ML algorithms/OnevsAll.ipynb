{
 "cells": [
  {
   "cell_type": "markdown",
   "metadata": {},
   "source": [
    "<h3>One vs All Classification</h3>\n",
    "<h4>Packages Used</h4>\n",
    "<ul>\n",
    "    <li>numpy</li>\n",
    "    <li>matplotlib</li>\n",
    "    <li>scipy</li>\n",
    "    <li>pickle</li>\n",
    "    <li>os</li>\n",
    "</ul>\n",
    "<h3>Import necessary packages</h3>"
   ]
  },
  {
   "cell_type": "code",
   "execution_count": 1,
   "metadata": {},
   "outputs": [],
   "source": [
    "%matplotlib inline\n",
    "import numpy as np\n",
    "import matplotlib.pyplot as plt\n",
    "import scipy.optimize as op\n",
    "import pickle\n",
    "import os"
   ]
  },
  {
   "cell_type": "code",
   "execution_count": 2,
   "metadata": {},
   "outputs": [],
   "source": [
    "plt.rcParams['figure.figsize'] = [10, 8]"
   ]
  },
  {
   "cell_type": "markdown",
   "metadata": {},
   "source": [
    "<h3>ReadData(data,separator): Helper function to read data</h3>\n",
    "<h4> Assumes data is of the form X[0], X[1], ..., X[n], Y</h4>\n",
    "<h5>Where X[i] is a feature and Y is the label</h5> "
   ]
  },
  {
   "cell_type": "code",
   "execution_count": 3,
   "metadata": {},
   "outputs": [],
   "source": [
    "def ReadData(data,separator):\n",
    "    \n",
    "    XY =  np.genfromtxt(data, delimiter=separator)\n",
    "    m=XY.shape[0]\n",
    "    Y=XY[:,-1].reshape(m,1)\n",
    "    X=XY[:,0:-1]\n",
    "    return X,Y,m"
   ]
  },
  {
   "cell_type": "markdown",
   "metadata": {},
   "source": [
    "<h3>Normalize(data): Helper function to Normalize data</h3>"
   ]
  },
  {
   "cell_type": "code",
   "execution_count": 4,
   "metadata": {},
   "outputs": [],
   "source": [
    "def Normalize(data):\n",
    "    \n",
    "    Mu = np.mean(X, axis=0)\n",
    "    Sigma = np.std(X, axis=0)\n",
    "    data = ((data-Mu)/Sigma)\n",
    "    return data, Mu, Sigma"
   ]
  },
  {
   "cell_type": "code",
   "execution_count": 5,
   "metadata": {},
   "outputs": [],
   "source": [
    "def mapFeature(X1, X2):\n",
    "# MAPFEATURE Feature mapping function to polynomial features\n",
    "#\n",
    "#   MAPFEATURE(X1, X2) maps the two input features\n",
    "#   to quadratic features used in the regularization exercise.\n",
    "#\n",
    "#   Returns a new feature array with more features, comprising of \n",
    "#   X1, X2, X1.^2, X2.^2, X1*X2, X1*X2.^2, etc..\n",
    "#   for a total of 1 + 2 + ... + (degree+1) = ((degree+1) * (degree+2)) / 2 columns\n",
    "#\n",
    "#   Inputs X1, X2 must be the same size\n",
    "\n",
    "    degree = 6\n",
    "    out = np.matrix(np.ones(X1.shape[0])).T\n",
    "    for i in range(1,degree+1):\n",
    "        for j in range(i+1):\n",
    "            out = np.c_[out,np.multiply(np.power(X1,i-j),np.power(X2,j))]\n",
    "    return out"
   ]
  },
  {
   "cell_type": "markdown",
   "metadata": {},
   "source": [
    "<h3>GradientDescent(theta, X, Y, m, lambd): Function to calculate the Gradient</h3>"
   ]
  },
  {
   "cell_type": "code",
   "execution_count": 6,
   "metadata": {},
   "outputs": [],
   "source": [
    "def GradientDescent(theta,*args):\n",
    "    [X,Y,m,lambd] = args\n",
    "    theta = np.squeeze(np.array(theta))\n",
    "    theta = theta.reshape(theta.shape[0],1)\n",
    "    grad = np.ones((theta.shape[0],1))\n",
    "    H = Sigmoid(np.dot(X, theta))\n",
    "    diff = H - Y\n",
    "    grad = (np.dot(X.T,diff) / m) + (theta * (lambd/m))\n",
    "    grad[0,0] = grad[0,0] - (theta[0,0] * (lambd/m))\n",
    "    grad = np.squeeze(np.array(grad))\n",
    "    return grad"
   ]
  },
  {
   "cell_type": "markdown",
   "metadata": {},
   "source": [
    "<h3>GradientDescentCheck(theta,X,Y,m,lambd,total_labels,input_layer_size,hidden_layer_size): Function to cheeck the Gradient</h3>"
   ]
  },
  {
   "cell_type": "code",
   "execution_count": 7,
   "metadata": {},
   "outputs": [],
   "source": [
    "def GradientDescentCheck(theta,*args):\n",
    "    [X,Y,m,lambd] = args\n",
    "    theta = np.squeeze(np.array(theta))\n",
    "    theta = theta.reshape(theta.shape[0],1)\n",
    "    epislon = 0.0001\n",
    "    numgrad = np.zeros((theta.shape[0],1)) \n",
    "    for i in range(numgrad.shape[0]):\n",
    "        newtheta = theta\n",
    "        newtheta[i,0] = newtheta[i,0] + epislon\n",
    "        loss1 = CostCalc(newtheta,X,Y,m,lambd)\n",
    "        newtheta[i,0] = newtheta[i,0] -  (2 * epislon)\n",
    "        loss2 = CostCalc(newtheta,X,Y,m,lambd)\n",
    "        numgrad[i,0] = (loss1 - loss2) / (2 * epislon)\n",
    "    return np.squeeze(np.array(numgrad))"
   ]
  },
  {
   "cell_type": "markdown",
   "metadata": {},
   "source": [
    "<h3>CostCalc(theta,X,Y,m,lambd,total_labels,input_layer_size,hidden_layer_size): Function to calculate Cost, Gradient</h3>"
   ]
  },
  {
   "cell_type": "code",
   "execution_count": 8,
   "metadata": {},
   "outputs": [],
   "source": [
    "def CostCalc(theta,*args):\n",
    "    #Reshape theta as op.minimize gives different type of numpy data structure\n",
    "    theta = np.squeeze(np.array(theta))\n",
    "    theta = theta.reshape(theta.shape[0],1)\n",
    "    grad = np.ones((theta.shape[0],1))\n",
    "    \n",
    "    [X,Y,m,lambd] = args\n",
    "    \n",
    "    H = Sigmoid(np.dot(X,theta))\n",
    "    J = np.dot(Y.T,np.log(H)) + np.dot((1-Y).T,np.log(1-H))\n",
    "    J = -J/m\n",
    "    Jreg = np.sum(np.square(theta))\n",
    "    Jreg = Jreg - np.square(theta[0,0])\n",
    "    Jreg = (lambd/(2*m)) * Jreg\n",
    "    J = J + Jreg\n",
    "    J = np.squeeze(np.array(J))\n",
    "    \n",
    "    diff = H - Y\n",
    "    grad = (np.dot(X.T,diff) / m) + (theta * (lambd/m))\n",
    "    grad[0,0] = grad[0,0] - (theta[0,0] * (lambd/m))\n",
    "    grad = np.squeeze(np.array(grad))\n",
    "\n",
    "    return J,grad"
   ]
  },
  {
   "cell_type": "markdown",
   "metadata": {},
   "source": [
    "<h3>ShowImages(images,gray=True): Helper function to Show images</h3>"
   ]
  },
  {
   "cell_type": "code",
   "execution_count": 9,
   "metadata": {},
   "outputs": [],
   "source": [
    "def ShowImages(images,P,gray=True):\n",
    "    \"\"\"\n",
    "    Display a list of images in a single figure with matplotlib.\n",
    "    \n",
    "    Parameters\n",
    "    ---------\n",
    "    images: unrolled images in np.array.\n",
    "    size of each image must be same and a perfect square.\n",
    "    i.e., sqrt(len(image)) is an integer\n",
    "    \"\"\"\n",
    "    rows = int(np.sqrt(images.shape[0]))\n",
    "    cols = rows\n",
    "    while (rows * cols < images.shape[0]):\n",
    "        rows = rows + 1\n",
    "    xy = images[0].shape[0]\n",
    "    x = int(np.sqrt(xy))\n",
    "    y = x\n",
    "    if(x * y != xy):\n",
    "        print(f'Image size {xy} is not a perfect square\\nHence aborting image plotting')\n",
    "        return\n",
    "    fig = plt.figure()\n",
    "    plt.suptitle('Images with their predictions', fontsize=16)\n",
    "    if gray:\n",
    "        plt.gray()\n",
    "    for n,image in enumerate(images):\n",
    "        a = fig.add_subplot(rows,cols , n + 1)\n",
    "        plt.imshow(image.reshape(x,y).transpose(1,0))\n",
    "        plt.subplots_adjust(right=0.7,hspace = 0.4)\n",
    "        plt.title(P[n])\n",
    "        plt.axis('off')\n",
    "    return"
   ]
  },
  {
   "cell_type": "code",
   "execution_count": 10,
   "metadata": {},
   "outputs": [],
   "source": [
    "def Sigmoid(Z):\n",
    "    Z = 1/(1 + np.exp(-Z))\n",
    "    return Z"
   ]
  },
  {
   "cell_type": "code",
   "execution_count": 11,
   "metadata": {},
   "outputs": [],
   "source": [
    "def AddOnes(X):\n",
    "    \n",
    "    return np.concatenate((np.ones((X.shape[0],1)),X),axis=1)"
   ]
  },
  {
   "cell_type": "code",
   "execution_count": 12,
   "metadata": {},
   "outputs": [],
   "source": [
    "def Predict(all_theta, X):\n",
    "    P = np.dot(X,all_theta.T)\n",
    "    P = np.argmax(P,axis = 1)\n",
    "    P = P.reshape(P.shape[0],1)\n",
    "    return P"
   ]
  },
  {
   "cell_type": "markdown",
   "metadata": {},
   "source": [
    "<h2>Main Code below</h2>"
   ]
  },
  {
   "cell_type": "code",
   "execution_count": 13,
   "metadata": {},
   "outputs": [
    {
     "name": "stdout",
     "output_type": "stream",
     "text": [
      "There are a total of 10 labels, which are : [0 1 2 3 4 5 6 7 8 9]\n",
      "\n",
      "The cost of 0th iteration is 0.020148971959254525 and it's success is True with the message 'Optimization terminated successfully.'\n",
      "The cost of 1th iteration is 0.02696161237288838 and it's success is True with the message 'Optimization terminated successfully.'\n",
      "The cost of 2th iteration is 0.06844912514578656 and it's success is False with the message 'Maximum number of iterations has been exceeded.'\n",
      "The cost of 3th iteration is 0.07171960910282586 and it's success is False with the message 'Maximum number of iterations has been exceeded.'\n",
      "The cost of 4th iteration is 0.052060447999888126 and it's success is False with the message 'Maximum number of iterations has been exceeded.'\n",
      "The cost of 5th iteration is 0.07686945763926202 and it's success is False with the message 'Maximum number of iterations has been exceeded.'\n",
      "The cost of 6th iteration is 0.03478694000649794 and it's success is True with the message 'Optimization terminated successfully.'\n",
      "The cost of 7th iteration is 0.04673021435390894 and it's success is False with the message 'Maximum number of iterations has been exceeded.'\n",
      "The cost of 8th iteration is 0.09275597321818495 and it's success is False with the message 'Maximum number of iterations has been exceeded.'\n",
      "The cost of 9th iteration is 0.08931725480236685 and it's success is False with the message 'Maximum number of iterations has been exceeded.'\n",
      "Training Done!\n",
      "\n",
      "Accuracy on training data = 94.39999999999999 %\n",
      "\n"
     ]
    },
    {
     "data": {
      "image/png": "[encoded data removed]",
      "text/plain": [
       "<matplotlib.figure.Figure at 0x3887c22d68>"
      ]
     },
     "metadata": {},
     "output_type": "display_data"
    }
   ],
   "source": [
    "X,Y,m = ReadData('ImageDS.txt',',')\n",
    "Y = Y.astype(int)\n",
    "original_X = X\n",
    "X = AddOnes(X)\n",
    "\n",
    "labels = np.unique(Y)\n",
    "total_labels = len(labels)\n",
    "tn = X.shape[1]\n",
    "all_theta = np.zeros((total_labels, tn))\n",
    "lambd = 1\n",
    "\n",
    "train = True\n",
    "options = {'disp': False, 'maxiter':50}\n",
    "\n",
    "plt_X = original_X[np.random.randint(X.shape[0], size=30),:]\n",
    "\n",
    "print(f'There are a total of {total_labels} labels, which are : {labels}\\n')\n",
    "\n",
    "fname = \"all_thetaOvA.pickle\"\n",
    "\n",
    "if os.path.isfile(fname):\n",
    "    pickle_in = open(\"all_thetaOvA.pickle\",\"rb\")\n",
    "    all_theta = pickle.load(pickle_in)\n",
    "    pickle_in.close()\n",
    "\n",
    "if train:\n",
    "    \n",
    "    for i in range(0,total_labels):\n",
    "        Yi = np.where(Y == i, 1, 0)\n",
    "        initial_theta = np.squeeze(all_theta[i,:])\n",
    "        Result = op.minimize(fun = CostCalc, x0 = initial_theta, args = (X,Yi,m,lambd), method = 'BFGS',\n",
    "                             jac = True, options=options)\n",
    "        cost = Result.fun\n",
    "        trained_theta = Result.x\n",
    "        all_theta[i,:] = trained_theta\n",
    "        print(f\"The cost of {i}th iteration is {cost} and it's success is {Result.success} with the message '{Result.message}'\")\n",
    "\n",
    "    pickle_out = open(\"all_thetaOvA.pickle\",\"wb\")\n",
    "    pickle.dump(all_theta, pickle_out)\n",
    "    pickle_out.close()\n",
    "    \n",
    "    print('Training Done!\\n')\n",
    "\n",
    "P = Predict(all_theta, X)\n",
    "Accuracy = np.mean(Y == P) * 100\n",
    "print(f'Accuracy on training data = {Accuracy} %\\n')\n",
    "\n",
    "P = Predict(all_theta,AddOnes(plt_X))\n",
    "P = np.squeeze(P)\n",
    "ShowImages(plt_X,P,gray=True)"
   ]
  }
 ],
 "metadata": {
  "kernelspec": {
   "display_name": "Python 3",
   "language": "python",
   "name": "python3"
  },
  "language_info": {
   "codemirror_mode": {
    "name": "ipython",
    "version": 3
   },
   "file_extension": ".py",
   "mimetype": "text/x-python",
   "name": "python",
   "nbconvert_exporter": "python",
   "pygments_lexer": "ipython3",
   "version": "3.6.3"
  }
 },
 "nbformat": 4,
 "nbformat_minor": 2
}
