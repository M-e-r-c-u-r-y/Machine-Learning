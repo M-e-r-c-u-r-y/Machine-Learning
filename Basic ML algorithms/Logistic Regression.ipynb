{
 "cells": [
  {
   "cell_type": "markdown",
   "metadata": {},
   "source": [
    "<h3>Logistic Regression</h3>\n",
    "<h4>Packages Used</h4>\n",
    "<ul>\n",
    "    <li>numpy</li>\n",
    "    <li>matplotlib</li>\n",
    "    <li>scipy</li>\n",
    "</ul>\n",
    "<h3>Import necessary packages</h3>"
   ]
  },
  {
   "cell_type": "code",
   "execution_count": 1,
   "metadata": {},
   "outputs": [],
   "source": [
    "%matplotlib inline\n",
    "import numpy as np\n",
    "import matplotlib.pyplot as plt\n",
    "import scipy.optimize as op"
   ]
  },
  {
   "cell_type": "code",
   "execution_count": 2,
   "metadata": {},
   "outputs": [],
   "source": [
    "plt.rcParams['figure.figsize'] = [10, 8]"
   ]
  },
  {
   "cell_type": "markdown",
   "metadata": {},
   "source": [
    "<h3>ReadData(data,separator): Helper function to read data</h3>\n",
    "<h4> Assumes data is of the form X[0], X[1], ..., X[n], Y</h4>\n",
    "<h5>Where X[i] is a feature and Y is the label</h5> "
   ]
  },
  {
   "cell_type": "code",
   "execution_count": 3,
   "metadata": {},
   "outputs": [],
   "source": [
    "def ReadData(data, separator):\n",
    "    \n",
    "    XY = np.genfromtxt(data, delimiter=separator)\n",
    "    m = XY.shape[0]\n",
    "    Y = XY[:, -1].reshape(m, 1)\n",
    "    X = XY[:, 0:-1]\n",
    "    bias = np.zeros((1, 1)) - 24\n",
    "    theta = np.zeros((X.shape[1], 1)) + 0.2\n",
    "    return X, Y, m, bias, theta"
   ]
  },
  {
   "cell_type": "markdown",
   "metadata": {},
   "source": [
    "<h3>Normalize(data): Helper function to Normalize data</h3>"
   ]
  },
  {
   "cell_type": "code",
   "execution_count": 4,
   "metadata": {},
   "outputs": [],
   "source": [
    "def Normalize(data):\n",
    "    \n",
    "    Mu = np.mean(X, axis=0)\n",
    "    Sigma = np.std(X, axis=0)\n",
    "    data = ((data-Mu)/Sigma)\n",
    "    return data, Mu, Sigma"
   ]
  },
  {
   "cell_type": "markdown",
   "metadata": {},
   "source": [
    "<h3>GradientDescent(theta, X, Y, costweight): Function to calculate the Gradient</h3>"
   ]
  },
  {
   "cell_type": "code",
   "execution_count": 5,
   "metadata": {},
   "outputs": [],
   "source": [
    "def GradientDescent(theta, X, Y, costweight):\n",
    "    bias = theta.item(0)\n",
    "    theta = np.delete(theta, 0).reshape(len(theta) - 1,1)\n",
    "    H = Sigmoid(np.dot(X, theta) + bias)\n",
    "    diff = H - Y\n",
    "    theta = costweight * np.dot(diff.T,X).T\n",
    "    bias = costweight * sum(diff)\n",
    "    return np.insert(theta,0,bias)"
   ]
  },
  {
   "cell_type": "markdown",
   "metadata": {},
   "source": [
    "<h3>CostCalc(X,theta,bias,Y,costweight): Function to calculate cost</h3>"
   ]
  },
  {
   "cell_type": "code",
   "execution_count": 6,
   "metadata": {},
   "outputs": [],
   "source": [
    "def CostCalc(theta, X, Y, costweight):\n",
    "\n",
    "    bias = theta.item(0)\n",
    "    theta = np.delete(theta, 0).reshape(len(theta) - 1,1)\n",
    "    H = Sigmoid(np.dot(X, theta) + bias)\n",
    "    J = -1 * costweight * sum(Y * np.log(H) + (1-Y) * np.log(1-H))\n",
    "    return J"
   ]
  },
  {
   "cell_type": "markdown",
   "metadata": {},
   "source": [
    "<h3>PlotData(theta,X,Y,fignumber=1): Helper function to Plot data, contour plot</h3>"
   ]
  },
  {
   "cell_type": "code",
   "execution_count": 7,
   "metadata": {},
   "outputs": [],
   "source": [
    "def PlotData(theta,X,Y,fignumber=1):\n",
    "\n",
    "    plt.style.use('ggplot')\n",
    "    plt.figure(fignumber)\n",
    "    plt.subplot(111)\n",
    "    X1 = np.array([[X[i,0],X[i,1]] for i in range(len(X)) if Y[i,0] == 1])\n",
    "    X0 = np.array([[X[i,0],X[i,1]] for i in range(len(X)) if Y[i,0] == 0])\n",
    "    plt.plot(X0[:,0],X0[:,1],'ro',label='class 0')\n",
    "    plt.plot(X1[:,0],X1[:,1],'bo',label='class 1')\n",
    "    plt.ylabel('Feature 2')\n",
    "    plt.xlabel('Feature 1')\n",
    "    plt.legend(bbox_to_anchor=(0.80, 1.15), loc=2,mode=\"expand\", borderaxespad=0.)\n",
    "    ContourPlot(theta, X)\n",
    "    return"
   ]
  },
  {
   "cell_type": "code",
   "execution_count": 8,
   "metadata": {},
   "outputs": [],
   "source": [
    "def ContourPlot(theta, X):\n",
    "\n",
    "    Y = np.linspace(min(X[:,1]), max(X[:,1]), 500)\n",
    "    X1 = np.linspace(min(X[:,0]), max(X[:,0]), 500)\n",
    "    Z = ContourPlotCalc(theta,X1,Y)\n",
    "    X , Y = np.meshgrid(X1, Y)\n",
    "    CS = plt.contour(X, Y, Z,colors='k', alpha=.5)\n",
    "    CS1 = plt.contourf(X, Y, Z,cmap='RdBu', alpha=.5)\n",
    "    return\n",
    "\n",
    "################################################################################\n",
    "################################################################################    \n",
    "\n",
    "def ContourPlotCalc(theta, X,Y):\n",
    "    Z=np.zeros((len(X),len(Y)))\n",
    "    bias = theta.item(0)\n",
    "    theta = np.delete(theta, 0).reshape(len(theta) - 1,1)\n",
    "    for i in range(len(X)):\n",
    "        for j in range(len(Y)):\n",
    "            ##Z[j][i] because contour plot needs costs[i][j] Transpose\n",
    "            Z[j][i] = np.dot(np.array([X[i],Y[j]]).reshape(1,2),theta) + bias\n",
    "    Z = np.where(Z > 0.5, 1, 0)\n",
    "    return Z"
   ]
  },
  {
   "cell_type": "code",
   "execution_count": 9,
   "metadata": {},
   "outputs": [],
   "source": [
    "def Sigmoid(Z):\n",
    "    Z = 1/(1 + np.exp(-Z))\n",
    "    return Z"
   ]
  },
  {
   "cell_type": "code",
   "execution_count": 10,
   "metadata": {},
   "outputs": [],
   "source": [
    "def Predict(theta, X):\n",
    "    bias = theta.item(0)\n",
    "    theta = np.delete(theta, 0).reshape(len(theta) - 1,1)\n",
    "    P = np.dot(X,theta) + bias\n",
    "    P = np.where(P > 0, 1, 0)\n",
    "    return P"
   ]
  },
  {
   "cell_type": "markdown",
   "metadata": {},
   "source": [
    "<h2>Main Code below</h2>"
   ]
  },
  {
   "cell_type": "code",
   "execution_count": 12,
   "metadata": {
    "scrolled": true
   },
   "outputs": [
    {
     "name": "stdout",
     "output_type": "stream",
     "text": [
      "Accuracy = 89.0 %\n",
      "cost = 0.2034977015894421\n"
     ]
    },
    {
     "data": {
      "image/png": "[encoded data removed]",
      "text/plain": [
       "<matplotlib.figure.Figure at 0x4982d21b70>"
      ]
     },
     "metadata": {},
     "output_type": "display_data"
    }
   ],
   "source": [
    "X,Y,m,bias,theta = ReadData('LogRegDS.txt',',')\n",
    "costweight = 1/m\n",
    "initial_theta = np.insert(theta,0,bias)\n",
    "cost = CostCalc(initial_theta,X,Y,costweight)\n",
    "#print(cost)\n",
    "initial_theta = np.insert(theta,0,bias)\n",
    "Result = op.minimize(fun = CostCalc, x0 = initial_theta, args = (X,Y,costweight), method = 'BFGS', jac = GradientDescent)\n",
    "#print(Result)\n",
    "cost = Result.fun\n",
    "trained_theta = Result.x\n",
    "P = Predict(trained_theta, X)\n",
    "error = costweight * sum(np.abs(P-Y)) * 100\n",
    "Accuracy = 100 - error[0]\n",
    "print(f'Accuracy = {Accuracy} %\\ncost = {cost}')\n",
    "PlotData(trained_theta, X,Y)"
   ]
  }
 ],
 "metadata": {
  "kernelspec": {
   "display_name": "Python 3",
   "language": "python",
   "name": "python3"
  },
  "language_info": {
   "codemirror_mode": {
    "name": "ipython",
    "version": 3
   },
   "file_extension": ".py",
   "mimetype": "text/x-python",
   "name": "python",
   "nbconvert_exporter": "python",
   "pygments_lexer": "ipython3",
   "version": "3.6.3"
  }
 },
 "nbformat": 4,
 "nbformat_minor": 2
}
