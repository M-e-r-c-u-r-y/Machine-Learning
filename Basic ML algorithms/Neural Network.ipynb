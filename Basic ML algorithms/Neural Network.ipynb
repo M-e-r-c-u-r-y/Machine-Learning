{
 "cells": [
  {
   "cell_type": "markdown",
   "metadata": {},
   "source": [
    "<h3>Neural Network</h3>\n",
    "<h4>Packages Used</h4>\n",
    "<ul>\n",
    "    <li>numpy</li>\n",
    "    <li>matplotlib</li>\n",
    "    <li>scipy</li>\n",
    "    <li>pickle</li>\n",
    "    <li>os</li>\n",
    "</ul>\n",
    "<h3>Import necessary packages</h3>"
   ]
  },
  {
   "cell_type": "code",
   "execution_count": 1,
   "metadata": {},
   "outputs": [],
   "source": [
    "%matplotlib inline\n",
    "import numpy as np\n",
    "import matplotlib.pyplot as plt\n",
    "import scipy.optimize as op\n",
    "import pickle\n",
    "import os"
   ]
  },
  {
   "cell_type": "code",
   "execution_count": 2,
   "metadata": {},
   "outputs": [],
   "source": [
    "plt.rcParams['figure.figsize'] = [10, 8]"
   ]
  },
  {
   "cell_type": "markdown",
   "metadata": {},
   "source": [
    "<h3>ReadData(data,separator): Helper function to read data</h3>\n",
    "<h4> Assumes data is of the form X[0], X[1], ..., X[n], Y</h4>\n",
    "<h5>Where X[i] is a feature and Y is the label</h5> "
   ]
  },
  {
   "cell_type": "code",
   "execution_count": 3,
   "metadata": {},
   "outputs": [],
   "source": [
    "def ReadData(data,separator):\n",
    "    \n",
    "    XY =  np.genfromtxt(data, delimiter=separator)\n",
    "    m=XY.shape[0]\n",
    "    Y=XY[:,-1].reshape(m,1)\n",
    "    X=XY[:,0:-1]\n",
    "    return X,Y,m"
   ]
  },
  {
   "cell_type": "markdown",
   "metadata": {},
   "source": [
    "<h3>Normalize(data): Helper function to Normalize data</h3>"
   ]
  },
  {
   "cell_type": "code",
   "execution_count": 4,
   "metadata": {},
   "outputs": [],
   "source": [
    "def Normalize(data):\n",
    "    \n",
    "    Mu = np.mean(X, axis=0)\n",
    "    Sigma = np.std(X, axis=0)\n",
    "    data = ((data-Mu)/Sigma)\n",
    "    return data, Mu, Sigma"
   ]
  },
  {
   "cell_type": "code",
   "execution_count": 5,
   "metadata": {},
   "outputs": [],
   "source": [
    "def mapFeature(X1, X2):\n",
    "# MAPFEATURE Feature mapping function to polynomial features\n",
    "#\n",
    "#   MAPFEATURE(X1, X2) maps the two input features\n",
    "#   to quadratic features used in the regularization exercise.\n",
    "#\n",
    "#   Returns a new feature array with more features, comprising of \n",
    "#   X1, X2, X1.^2, X2.^2, X1*X2, X1*X2.^2, etc..\n",
    "#   for a total of 1 + 2 + ... + (degree+1) = ((degree+1) * (degree+2)) / 2 columns\n",
    "#\n",
    "#   Inputs X1, X2 must be the same size\n",
    "\n",
    "    degree = 6\n",
    "    out = np.matrix(np.ones(X1.shape[0])).T\n",
    "    for i in range(1,degree+1):\n",
    "        for j in range(i+1):\n",
    "            out = np.c_[out,np.multiply(np.power(X1,i-j),np.power(X2,j))]\n",
    "    return out"
   ]
  },
  {
   "cell_type": "markdown",
   "metadata": {},
   "source": [
    "<h3>GradientDescent(theta, X, Y, m, lambd): Function to calculate the Gradient</h3>"
   ]
  },
  {
   "cell_type": "code",
   "execution_count": 6,
   "metadata": {},
   "outputs": [],
   "source": [
    "def GradientDescent(theta,*args):\n",
    "    [X,Y,m,lambd] = args\n",
    "    theta = np.squeeze(np.array(theta))\n",
    "    theta = theta.reshape(theta.shape[0],1)\n",
    "    grad = np.ones((theta.shape[0],1))\n",
    "    H = Sigmoid(np.dot(X, theta))\n",
    "    diff = H - Y\n",
    "    grad = (np.dot(X.T,diff) / m) + (theta * (lambd/m))\n",
    "    grad[0,0] = grad[0,0] - (theta[0,0] * (lambd/m))\n",
    "    grad = np.squeeze(np.array(grad))\n",
    "    return grad"
   ]
  },
  {
   "cell_type": "markdown",
   "metadata": {},
   "source": [
    "<h3>GradientDescentCheck(theta,X,Y,m,lambd,total_labels,input_layer_size,hidden_layer_size): Function to cheeck the Gradient</h3>"
   ]
  },
  {
   "cell_type": "code",
   "execution_count": 7,
   "metadata": {},
   "outputs": [],
   "source": [
    "def GradientDescentCheck(theta,*args):\n",
    "    theta = np.squeeze(np.array(theta))\n",
    "    theta = theta.reshape(theta.shape[0],1)\n",
    "    [X,Y,m,lambd,total_labels,input_layer_size,hidden_layer_size,params,verbose] = args\n",
    "    epislon = 0.0001\n",
    "    numgrad = np.zeros((theta.shape[0],1))\n",
    "    if(params == 'all'):\n",
    "        params = numgrad.shape[0]\n",
    "    for i in range(params):\n",
    "        if verbose:\n",
    "            print(f'Checking parameter {i} of {params}')\n",
    "        newtheta = theta\n",
    "        newtheta[i,0] = newtheta[i,0] + epislon\n",
    "        loss1,_ = CostCalc(newtheta,X,Y,m,lambd,total_labels,input_layer_size,hidden_layer_size)\n",
    "        newtheta[i,0] = newtheta[i,0] -  (2 * epislon)\n",
    "        loss2,_ = CostCalc(newtheta,X,Y,m,lambd,total_labels,input_layer_size,hidden_layer_size)\n",
    "        numgrad[i,0] = (loss1 - loss2) / (2 * epislon)\n",
    "    return np.squeeze(np.array(numgrad))"
   ]
  },
  {
   "cell_type": "markdown",
   "metadata": {},
   "source": [
    "<h3>CostCalc(theta,X,Y,m,lambd,total_labels,input_layer_size,hidden_layer_size): Function to calculate Cost, Gradient</h3>"
   ]
  },
  {
   "cell_type": "code",
   "execution_count": 8,
   "metadata": {},
   "outputs": [],
   "source": [
    "def CostCalc(theta,*args):\n",
    "    #Reshape theta as op.minimize gives different type of numpy data structure\n",
    "    [X,Y,m,lambd,total_labels,input_layer_size,hidden_layer_size] = args\n",
    "    theta = np.squeeze(np.array(theta))\n",
    "    Theta1 = np.array(theta[0:hidden_layer_size * input_layer_size]).reshape(hidden_layer_size,input_layer_size)\n",
    "    Theta2 = np.array(theta[hidden_layer_size * input_layer_size:len(theta)]).reshape(total_labels,hidden_layer_size + 1)\n",
    "    \n",
    "    Z2 = np.dot(X,Theta1.T)\n",
    "    A2 = AddOnes(Sigmoid(Z2))\n",
    "    \n",
    "    H = Sigmoid(np.dot(A2,Theta2.T))\n",
    "    Y = AutoEncode(Y,total_labels)\n",
    "    J = np.sum(Y * np.log(H)) + np.sum((1-Y) * np.log(1-H))\n",
    "    J = -J/m\n",
    "    NT1 = np.ravel(Theta1[:,1:Theta1.shape[1]])\n",
    "    #NT1 = NT1.reshape(NT1.shape[0],1)\n",
    "    NT2 = np.ravel(Theta2[:,1:Theta2.shape[1]])\n",
    "    #NT2 = NT2.reshape(NT2.shape[0],1)\n",
    "    Jreg = np.concatenate((NT1,NT2))\n",
    "    Jreg = np.sum(np.square(Jreg))\n",
    "    Jreg = (lambd/(2*m)) * Jreg\n",
    "    J = J + Jreg\n",
    "    J = np.squeeze(np.array(J))\n",
    "    delta_3 = H - Y\n",
    "    delta_2 = np.dot(delta_3,Theta2[:,1:Theta2.shape[1]]) * SigmoidGradient(Z2)\n",
    "    grad1 = np.dot(X.T,delta_2).T\n",
    "    grad1 = grad1/m\n",
    "    grad1reg = (lambd/m) * Theta1\n",
    "    grad1reg[:,0] = 0\n",
    "    grad1 = grad1 + grad1reg\n",
    "    grad2 = np.dot(A2.T,delta_3).T\n",
    "    grad2 = grad2/m\n",
    "    grad2reg = (lambd/m) * Theta2\n",
    "    grad2reg[:,0] = 0\n",
    "    grad2 = grad2 + grad2reg\n",
    "    grad = np.concatenate((np.ravel(grad1),np.ravel(grad2)))\n",
    "    return J,grad"
   ]
  },
  {
   "cell_type": "markdown",
   "metadata": {},
   "source": [
    "<h3>ShowImages(images,gray=True): Helper function to Show images</h3>"
   ]
  },
  {
   "cell_type": "code",
   "execution_count": 9,
   "metadata": {},
   "outputs": [],
   "source": [
    "def ShowImages(images,P,gray=True):\n",
    "    \"\"\"\n",
    "    Display a list of images in a single figure with matplotlib.\n",
    "    \n",
    "    Parameters\n",
    "    ---------\n",
    "    images: unrolled images in np.array.\n",
    "    size of each image must be same and a perfect square.\n",
    "    i.e., sqrt(len(image)) is an integer\n",
    "    \"\"\"\n",
    "    rows = int(np.sqrt(images.shape[0]))\n",
    "    cols = rows\n",
    "    while (rows * cols < images.shape[0]):\n",
    "        rows = rows + 1\n",
    "    xy = images[0].shape[0]\n",
    "    x = int(np.sqrt(xy))\n",
    "    y = x\n",
    "    if(x * y != xy):\n",
    "        print(f'Image size {xy} is not a perfect square\\nHence aborting image plotting')\n",
    "        return\n",
    "    fig = plt.figure()\n",
    "    plt.suptitle('Images with their predictions', fontsize=16)\n",
    "    if gray:\n",
    "        plt.gray()\n",
    "    for n,image in enumerate(images):\n",
    "        a = fig.add_subplot(rows,cols , n + 1)\n",
    "        plt.imshow(image.reshape(x,y).transpose(1,0))\n",
    "        plt.subplots_adjust(right=0.7,hspace = 0.4)\n",
    "        plt.title(P[n])\n",
    "        plt.axis('off')\n",
    "    return"
   ]
  },
  {
   "cell_type": "code",
   "execution_count": 10,
   "metadata": {},
   "outputs": [],
   "source": [
    "def Sigmoid(Z):\n",
    "    Z = 1/(1 + np.exp(-Z))\n",
    "    return Z\n",
    "\n",
    "\n",
    "def SigmoidGradient(Z):\n",
    "    \n",
    "    return Sigmoid(Z) * (1 - Sigmoid(Z))"
   ]
  },
  {
   "cell_type": "code",
   "execution_count": 11,
   "metadata": {},
   "outputs": [],
   "source": [
    "def AddOnes(X):\n",
    "    \n",
    "    return np.concatenate((np.ones((X.shape[0],1)),X),axis=1)\n",
    "\n",
    "\n",
    "def AutoEncode(Y,total_labels):\n",
    "    Y_original = Y\n",
    "    Y = np.eye(total_labels)\n",
    "    Y = np.squeeze(Y[Y_original,:])\n",
    "    return Y"
   ]
  },
  {
   "cell_type": "code",
   "execution_count": 12,
   "metadata": {},
   "outputs": [],
   "source": [
    "def Predict(Theta1,Theta2, X):\n",
    "\n",
    "    A2 = Sigmoid(np.dot(X,Theta1.T))\n",
    "    A2 = np.concatenate((np.ones((A2.shape[0],1)),A2),axis=1)\n",
    "    P = Sigmoid(np.dot(A2,Theta2.T))\n",
    "    P = np.argmax(P,axis = 1)\n",
    "    P = P.reshape(P.shape[0],1)\n",
    "\n",
    "    return P"
   ]
  },
  {
   "cell_type": "markdown",
   "metadata": {},
   "source": [
    "<h2>Main Code below</h2>"
   ]
  },
  {
   "cell_type": "code",
   "execution_count": 13,
   "metadata": {
    "scrolled": true
   },
   "outputs": [
    {
     "name": "stdout",
     "output_type": "stream",
     "text": [
      "There are a total of 10 labels, which are : [0 1 2 3 4 5 6 7 8 9]\n",
      "\n",
      "Doing Grad Descent Check\n",
      "\n",
      "Gradients from analytical method\n",
      "\n",
      "[-3.09332497e-07 -1.75534813e-31 -2.75453008e-31  5.90217047e-12\n",
      " -5.66168097e-11]\n",
      "\n",
      "Gradients from numerical method\n",
      "\n",
      "[-3.09334502e-07  0.00000000e+00  0.00000000e+00  6.10622664e-12\n",
      " -5.77315973e-11]\n",
      "\n",
      "Gradients difference between numerical and analytical method = 2.9166529993293906e-12\n",
      "\n",
      "Starting Training with 2 iterations\n",
      "\n",
      "\n",
      "The cost is 0.2994872636242907 and it's success is False with the message 'Warning: Maximum number of iterations has been exceeded.'\n",
      "\n",
      "Training Done!\n",
      "\n",
      "Accuracy on training data = 99.7 %\n",
      "\n"
     ]
    },
    {
     "data": {
      "image/png": "[encoded data removed]",
      "text/plain": [
       "<matplotlib.figure.Figure at 0x2364edb0b8>"
      ]
     },
     "metadata": {},
     "output_type": "display_data"
    }
   ],
   "source": [
    "X,Y,m = ReadData('ImageDS.txt',',')\n",
    "Y = Y.astype(int)\n",
    "original_X = X\n",
    "X = AddOnes(X)\n",
    "input_layer_size = X.shape[1]\n",
    "hidden_layer_size = 25\n",
    "\n",
    "options = {'disp': False, 'maxiter':2}\n",
    "train = True\n",
    "\n",
    "plt_X = original_X[np.random.randint(X.shape[0], size=30),:]\n",
    "labels = np.unique(Y)\n",
    "total_labels = len(labels)\n",
    "\n",
    "print(f'There are a total of {total_labels} labels, which are : {labels}\\n')\n",
    "\n",
    "Theta1 = np.random.rand(hidden_layer_size, input_layer_size)\n",
    "Theta2 = np.random.rand(total_labels, hidden_layer_size + 1)\n",
    "\n",
    "fname = \"all_theta.pickle\"\n",
    "\n",
    "if os.path.isfile(fname):\n",
    "    pickle_in = open(fname,\"rb\")\n",
    "    [ Theta1,Theta2 ] = pickle.load(pickle_in)\n",
    "    pickle_in.close()\n",
    "    \n",
    "all_theta = np.concatenate((np.ravel(Theta1),np.ravel(Theta2)))\n",
    "\n",
    "#print(Theta1.shape,Theta2.shape,all_theta.shape)\n",
    "lambd = 1\n",
    "\n",
    "initial_theta = np.squeeze(all_theta)\n",
    "\n",
    "J,grad = CostCalc(initial_theta,X,Y,m,lambd,total_labels,input_layer_size,hidden_layer_size)\n",
    "\n",
    "print('Doing Grad Descent Check\\n')\n",
    "\n",
    "params,verbose = 5, False\n",
    "Numgrad = GradientDescentCheck(initial_theta,X,Y,m,lambd,total_labels,input_layer_size,hidden_layer_size,params,verbose)\n",
    "\n",
    "print('Gradients from analytical method\\n')\n",
    "print(grad[0:5])\n",
    "print('\\nGradients from numerical method\\n')\n",
    "print(Numgrad[0:5])\n",
    "score = abs(sum(Numgrad[0:5]-grad[0:5]))\n",
    "print(f'\\nGradients difference between numerical and analytical method = {score}\\n')\n",
    "\n",
    "\n",
    "if train:\n",
    "    \n",
    "    iterations = options['maxiter']\n",
    "    print(f'Starting Training with {iterations} iterations\\n')\n",
    "    initial_theta = np.squeeze(all_theta)\n",
    "    Result = op.minimize(fun = CostCalc, x0 = initial_theta, args = (X,Y,m,lambd,total_labels,input_layer_size,hidden_layer_size),\n",
    "                         method = 'Newton-CG', jac = True, options=options)\n",
    "    cost = Result.fun\n",
    "    trained_theta = Result.x\n",
    "    theta = trained_theta\n",
    "    print(f\"\\nThe cost is {cost} and it's success is {Result.success} with the message '{Result.message}'\\n\")\n",
    "    Theta1 = np.array(theta[0:hidden_layer_size * input_layer_size]).reshape(hidden_layer_size,input_layer_size)\n",
    "    Theta2 = np.array(theta[hidden_layer_size * input_layer_size:len(theta)]).reshape(total_labels,hidden_layer_size + 1)\n",
    "    pickle_out = open(fname,\"wb\")\n",
    "    pickle.dump([Theta1,Theta2], pickle_out)\n",
    "    pickle_out.close()\n",
    "    \n",
    "    print('Training Done!\\n')\n",
    "#raise SystemExit(0)\n",
    "P = Predict(Theta1,Theta2, X)\n",
    "##error = (1/m) * sum(np.abs(P-Y)) * 100\n",
    "##Accuracy = 100 - error\n",
    "Accuracy = np.mean(Y == P) * 100\n",
    "print(f'Accuracy on training data = {Accuracy} %\\n')\n",
    "\n",
    "P = Predict(Theta1,Theta2,AddOnes(plt_X))\n",
    "P = np.squeeze(P)\n",
    "ShowImages(plt_X,P,gray=True)"
   ]
  }
 ],
 "metadata": {
  "kernelspec": {
   "display_name": "Python 3",
   "language": "python",
   "name": "python3"
  },
  "language_info": {
   "codemirror_mode": {
    "name": "ipython",
    "version": 3
   },
   "file_extension": ".py",
   "mimetype": "text/x-python",
   "name": "python",
   "nbconvert_exporter": "python",
   "pygments_lexer": "ipython3",
   "version": "3.6.3"
  }
 },
 "nbformat": 4,
 "nbformat_minor": 2
}
