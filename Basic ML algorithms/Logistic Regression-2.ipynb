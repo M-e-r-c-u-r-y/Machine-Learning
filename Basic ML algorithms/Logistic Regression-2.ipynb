{
 "cells": [
  {
   "cell_type": "markdown",
   "metadata": {},
   "source": [
    "<h3>Logistic Regression</h3>\n",
    "<h4>Packages Used</h4>\n",
    "<ul>\n",
    "    <li>numpy</li>\n",
    "    <li>matplotlib</li>\n",
    "    <li>scipy</li>\n",
    "</ul>\n",
    "<h3>Import necessary packages</h3>"
   ]
  },
  {
   "cell_type": "code",
   "execution_count": 1,
   "metadata": {},
   "outputs": [],
   "source": [
    "%matplotlib inline\n",
    "import numpy as np\n",
    "import matplotlib.pyplot as plt\n",
    "import scipy.optimize as op"
   ]
  },
  {
   "cell_type": "code",
   "execution_count": 2,
   "metadata": {},
   "outputs": [],
   "source": [
    "plt.rcParams['figure.figsize'] = [10, 8]"
   ]
  },
  {
   "cell_type": "markdown",
   "metadata": {},
   "source": [
    "<h3>ReadData(data,separator): Helper function to read data</h3>\n",
    "<h4> Assumes data is of the form X[0], X[1], ..., X[n], Y</h4>\n",
    "<h5>Where X[i] is a feature and Y is the label</h5> "
   ]
  },
  {
   "cell_type": "code",
   "execution_count": 3,
   "metadata": {},
   "outputs": [],
   "source": [
    "def ReadData(data,separator):\n",
    "    \n",
    "    XY =  np.genfromtxt(data, delimiter=separator)\n",
    "    m=XY.shape[0]\n",
    "    Y=XY[:,-1].reshape(m,1)\n",
    "    X=XY[:,0:-1]\n",
    "    return X,Y,m"
   ]
  },
  {
   "cell_type": "markdown",
   "metadata": {},
   "source": [
    "<h3>Normalize(data): Helper function to Normalize data</h3>"
   ]
  },
  {
   "cell_type": "code",
   "execution_count": 4,
   "metadata": {},
   "outputs": [],
   "source": [
    "def Normalize(data):\n",
    "    \n",
    "    Mu = np.mean(X, axis=0)\n",
    "    Sigma = np.std(X, axis=0)\n",
    "    data = ((data-Mu)/Sigma)\n",
    "    return data, Mu, Sigma"
   ]
  },
  {
   "cell_type": "code",
   "execution_count": 5,
   "metadata": {},
   "outputs": [],
   "source": [
    "def mapFeature(X1, X2):\n",
    "# MAPFEATURE Feature mapping function to polynomial features\n",
    "#\n",
    "#   MAPFEATURE(X1, X2) maps the two input features\n",
    "#   to quadratic features used in the regularization exercise.\n",
    "#\n",
    "#   Returns a new feature array with more features, comprising of \n",
    "#   X1, X2, X1.^2, X2.^2, X1*X2, X1*X2.^2, etc..\n",
    "#   for a total of 1 + 2 + ... + (degree+1) = ((degree+1) * (degree+2)) / 2 columns\n",
    "#\n",
    "#   Inputs X1, X2 must be the same size\n",
    "\n",
    "    degree = 6\n",
    "    out = np.matrix(np.ones(X1.shape[0])).T\n",
    "    for i in range(1,degree+1):\n",
    "        for j in range(i+1):\n",
    "            out = np.c_[out,np.multiply(np.power(X1,i-j),np.power(X2,j))]\n",
    "    return out"
   ]
  },
  {
   "cell_type": "markdown",
   "metadata": {},
   "source": [
    "<h3>GradientDescent(theta, X, Y, m, lambd): Function to calculate the Gradient</h3>"
   ]
  },
  {
   "cell_type": "code",
   "execution_count": 6,
   "metadata": {},
   "outputs": [],
   "source": [
    "def GradientDescent(theta,*args):\n",
    "    X,Y,m,lambd = args[0],args[1],args[2],args[3]\n",
    "    theta = np.squeeze(np.array(theta))\n",
    "    theta = theta.reshape(theta.shape[0],1)\n",
    "    grad = np.ones((theta.shape[0],1))\n",
    "    H = Sigmoid(np.dot(X, theta))\n",
    "    diff = H - Y\n",
    "    grad = (np.dot(X.T,diff) / m) + (theta * (lambd/m))\n",
    "    grad[0,0] = grad[0,0] - (theta[0,0] * (lambd/m))\n",
    "    grad = np.squeeze(np.array(grad))\n",
    "    return grad"
   ]
  },
  {
   "cell_type": "markdown",
   "metadata": {},
   "source": [
    "<h3>GradientDescentCheck(theta, X, Y, m, lambd): Function to cheeck the Gradient</h3>"
   ]
  },
  {
   "cell_type": "code",
   "execution_count": 7,
   "metadata": {},
   "outputs": [],
   "source": [
    "def GradientDescentCheck(theta,*args):\n",
    "    X,Y,m,lambd = args[0],args[1],args[2],args[3]\n",
    "    theta = np.squeeze(np.array(theta))\n",
    "    theta = theta.reshape(theta.shape[0],1)\n",
    "    epislon = 0.0001\n",
    "    numgrad = np.zeros((theta.shape[0],1)) \n",
    "    for i in range(numgrad.shape[0]):\n",
    "        newtheta = theta\n",
    "        newtheta[i,0] = newtheta[i,0] + epislon\n",
    "        loss1,_ = CostCalc(newtheta,X,Y,m,lambd)\n",
    "        newtheta[i,0] = newtheta[i,0] -  (2 * epislon)\n",
    "        loss2,_ = CostCalc(newtheta,X,Y,m,lambd)\n",
    "        numgrad[i,0] = (loss1 - loss2) / (2 * epislon)\n",
    "    return np.squeeze(np.array(numgrad))"
   ]
  },
  {
   "cell_type": "markdown",
   "metadata": {},
   "source": [
    "<h3>CostCalc(X,theta,bias,Y,costweight): Function to calculate Cost, Gradient</h3>"
   ]
  },
  {
   "cell_type": "code",
   "execution_count": 8,
   "metadata": {},
   "outputs": [],
   "source": [
    "def CostCalc(theta,*args):\n",
    "    X,Y,m,lambd = args[0],args[1],args[2],args[3]\n",
    "    #Reshape theta as op.minimize gives different type of numpy data structure\n",
    "    theta = np.squeeze(np.array(theta))\n",
    "    theta = theta.reshape(theta.shape[0],1)\n",
    "    \n",
    "    H = Sigmoid(np.dot(X,theta))\n",
    "    diff = H - Y\n",
    "    grad = (np.dot(X.T,diff) / m) + (theta * (lambd/m))\n",
    "    grad[0,0] = grad[0,0] - (theta[0,0] * (lambd/m))\n",
    "    J = (-(np.dot(Y.T,np.log(H)) + np.dot((1-Y).T,np.log(1-H)))/m) + ((lambd/(2*m)) * np.sum(np.square(theta)))\n",
    "    J[0,0] = J[0,0] - ((lambd/(2*m)) * np.square(theta[0,0]))\n",
    "    grad = np.squeeze(np.array(grad))\n",
    "    J = np.squeeze(np.array(J))\n",
    "    return J,grad"
   ]
  },
  {
   "cell_type": "markdown",
   "metadata": {},
   "source": [
    "<h3>PlotData(theta,X,Y,mapFeatures,fignumber=1,res = 200): Helper function to Plot data, contour plot</h3>"
   ]
  },
  {
   "cell_type": "code",
   "execution_count": 9,
   "metadata": {},
   "outputs": [],
   "source": [
    "def PlotData(theta,X,Y,mapFeatures,fignumber=1,res = 200):\n",
    "\n",
    "    plt.style.use('ggplot')\n",
    "    plt.figure(fignumber)\n",
    "    plt.subplot(111)\n",
    "    X1 = np.array([[X[i,0],X[i,1]] for i in range(len(X)) if Y[i,0] == 1])\n",
    "    X0 = np.array([[X[i,0],X[i,1]] for i in range(len(X)) if Y[i,0] == 0])\n",
    "    plt.plot(X0[:,0],X0[:,1],'ro',label='class 0')\n",
    "    plt.plot(X1[:,0],X1[:,1],'bo',label='class 1')\n",
    "    plt.ylabel('Feature 2')\n",
    "    plt.xlabel('Feature 1')\n",
    "    plt.legend(bbox_to_anchor=(0.80, 1.15), loc=2,mode=\"expand\", borderaxespad=0.)\n",
    "    ContourPlot(theta, X,mapFeatures,res)\n",
    "    return"
   ]
  },
  {
   "cell_type": "code",
   "execution_count": 10,
   "metadata": {},
   "outputs": [],
   "source": [
    "def ContourPlot(theta, X, mapFeatures, res = 100):\n",
    "## res is the resolution of the x,y plane that is used to plot the contour data\n",
    "## higher res gives smother contour at the cost of computation time\n",
    "    Y = np.linspace(min(X[:,1]), max(X[:,1]), res)\n",
    "    X = np.linspace(min(X[:,0]), max(X[:,0]), res)\n",
    "    Z = ContourPlotCalc(theta, X, Y, mapFeatures)\n",
    "    X , Y = np.meshgrid(X, Y)\n",
    "    CS = plt.contour(X, Y, Z,colors='k', alpha=.5)\n",
    "    CS1 = plt.contourf(X, Y, Z,cmap='RdBu', alpha=.5)\n",
    "    \n",
    "    return\n",
    "\n",
    "################################################################################\n",
    "################################################################################    \n",
    "\n",
    "def ContourPlotCalc(theta, X, Y, mapFeatures):\n",
    "    theta = np.squeeze(np.array(theta))\n",
    "    theta = theta.reshape(theta.shape[0],1)\n",
    "    X1 = np.array([ (x,y) for x in X for y in Y])\n",
    "    if mapFeatures :\n",
    "        X1 = mapFeature(X1[:,0], X1[:,1])\n",
    "    Z = np.dot(X1,theta)\n",
    "    Z = np.where(Z >= 0, 1, 0)\n",
    "    Z = Z.reshape(len(X),len(Y))\n",
    "    return Z"
   ]
  },
  {
   "cell_type": "code",
   "execution_count": 11,
   "metadata": {},
   "outputs": [],
   "source": [
    "def Sigmoid(Z):\n",
    "    Z = 1/(1 + np.exp(-Z))\n",
    "    return Z"
   ]
  },
  {
   "cell_type": "code",
   "execution_count": 12,
   "metadata": {},
   "outputs": [],
   "source": [
    "def Predict(theta, X):\n",
    "    theta = np.squeeze(np.array(theta))\n",
    "    theta = theta.reshape(theta.shape[0],1)\n",
    "    P = np.dot(X,theta)\n",
    "    P = np.where(P >= 0, 1, 0)\n",
    "    return P"
   ]
  },
  {
   "cell_type": "markdown",
   "metadata": {},
   "source": [
    "<h2>Main Code below</h2>"
   ]
  },
  {
   "cell_type": "code",
   "execution_count": 13,
   "metadata": {},
   "outputs": [
    {
     "name": "stdout",
     "output_type": "stream",
     "text": [
      "Checking Gradient descent\n",
      "\n",
      "grad[0] = 0.3460450736792453,numgrad[0] = 0.34604507335833645\n",
      "grad[1] = 0.08508073284023367,numgrad[1] = 0.08508265936013615\n",
      "grad[2] = 0.1185245691713191,numgrad[2] = 0.11852633558406822\n",
      "grad[3] = 0.1505915957843716,numgrad[3] = 0.15058995800565356\n",
      "grad[4] = 0.015914488662613836,numgrad[4] = 0.015915663333920804\n",
      "\n",
      "Relative difference should be very small and it is 4.0781980446365794e-06\n",
      "\n",
      "Accuracy = 83.05084745762713 %\n",
      "cost = 0.5290027422869218\n"
     ]
    },
    {
     "data": {
      "image/png": "[encoded data removed]",
      "text/plain": [
       "<matplotlib.figure.Figure at 0xcf02408d68>"
      ]
     },
     "metadata": {},
     "output_type": "display_data"
    }
   ],
   "source": [
    "X,Y,m = ReadData('LogRegDS2.txt',',')\n",
    "original_X = X\n",
    "mapFeatures = True\n",
    "X0 = np.array(X[:,0]).reshape(m,1)\n",
    "X1 = np.array(X[:,1]).reshape(m,1)\n",
    "X,Mu,Sigma = Normalize(X)\n",
    "Norm_X = X\n",
    "X = mapFeature(X0,X1)\n",
    "theta = np.ones((X.shape[1],1))\n",
    "lambd = 1\n",
    "J,grad = CostCalc(theta,X,Y,m,lambd)\n",
    "numgrad = GradientDescentCheck(theta,X,Y,m,lambd)\n",
    "print('Checking Gradient descent\\n')\n",
    "for j in range(5):\n",
    "    print(f'grad[{j}] = {grad[j]},numgrad[{j}] = {numgrad[j]}')\n",
    "numgrad = np.array(numgrad)\n",
    "grad = np.array(grad)\n",
    "Relative_difference = np.linalg.norm(numgrad-grad)/np.linalg.norm(numgrad+grad)\n",
    "print(f'\\nRelative difference should be very small and it is {Relative_difference}\\n')\n",
    "initial_theta = np.squeeze(theta) * 0\n",
    "Result = op.minimize(fun = CostCalc, x0 = initial_theta, args = (X,Y,m,lambd), method = 'BFGS', jac = True)\n",
    "cost = Result.fun\n",
    "trained_theta = Result.x\n",
    "trained_theta = trained_theta.reshape(trained_theta.shape[0],1)\n",
    "#print(cost,trained_theta)\n",
    "P = Predict(trained_theta, X)\n",
    "error = (1/m) * sum(np.abs(P-Y)) * 100\n",
    "Accuracy = 100 - error[0]\n",
    "print(f'Accuracy = {Accuracy} %\\ncost = {cost}')\n",
    "i = 1\n",
    "res = 500\n",
    "PlotData(trained_theta, original_X,Y,mapFeatures,i,res)\n",
    "plt.show()"
   ]
  }
 ],
 "metadata": {
  "kernelspec": {
   "display_name": "Python 3",
   "language": "python",
   "name": "python3"
  },
  "language_info": {
   "codemirror_mode": {
    "name": "ipython",
    "version": 3
   },
   "file_extension": ".py",
   "mimetype": "text/x-python",
   "name": "python",
   "nbconvert_exporter": "python",
   "pygments_lexer": "ipython3",
   "version": "3.6.3"
  }
 },
 "nbformat": 4,
 "nbformat_minor": 2
}
