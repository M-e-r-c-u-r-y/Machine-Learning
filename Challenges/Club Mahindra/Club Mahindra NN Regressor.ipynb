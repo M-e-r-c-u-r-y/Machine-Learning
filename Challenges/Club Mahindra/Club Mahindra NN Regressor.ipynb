{
 "cells": [
  {
   "cell_type": "markdown",
   "metadata": {},
   "source": [
    "## Import packages"
   ]
  },
  {
   "cell_type": "code",
   "execution_count": 1,
   "metadata": {
    "scrolled": true
   },
   "outputs": [
    {
     "name": "stderr",
     "output_type": "stream",
     "text": [
      "Using TensorFlow backend.\n"
     ]
    }
   ],
   "source": [
    "%matplotlib inline\n",
    "import pandas as pd\n",
    "import numpy as np\n",
    "import matplotlib.pyplot as plt\n",
    "import seaborn as sns\n",
    "\n",
    "from keras.optimizers import Adam\n",
    "from keras.models import Sequential, load_model\n",
    "from keras.layers import Dense, BatchNormalization\n",
    "from keras.callbacks import LambdaCallback, ModelCheckpoint\n",
    "\n",
    "from sklearn.metrics import r2_score\n",
    "from sklearn.preprocessing import StandardScaler, RobustScaler, MinMaxScaler\n",
    "\n",
    "from sklearn.metrics import mean_squared_error\n",
    "\n",
    "import pickle\n",
    "from time import time"
   ]
  },
  {
   "cell_type": "code",
   "execution_count": 2,
   "metadata": {
    "scrolled": true
   },
   "outputs": [],
   "source": [
    "plt.rcParams['figure.figsize'] = [16, 6]"
   ]
  },
  {
   "cell_type": "markdown",
   "metadata": {},
   "source": [
    "### Helper function to get and process the data"
   ]
  },
  {
   "cell_type": "code",
   "execution_count": 3,
   "metadata": {
    "scrolled": true
   },
   "outputs": [],
   "source": [
    "def dataget(train_path, description_path, test_path):\n",
    "\n",
    "    train_data = pd.read_csv(train_path, parse_dates=['booking_date', 'checkin_date', 'checkout_date'], infer_datetime_format=True)\n",
    "    description_data = pd.read_excel(description_path)\n",
    "    test_data = pd.read_csv(test_path, parse_dates=['booking_date', 'checkin_date', 'checkout_date'], infer_datetime_format=True)\n",
    "    \n",
    "    return train_data, description_data, test_data"
   ]
  },
  {
   "cell_type": "code",
   "execution_count": 5,
   "metadata": {
    "scrolled": true
   },
   "outputs": [
    {
     "data": {
      "text/html": [
       "<div>\n",
       "<style scoped>\n",
       "    .dataframe tbody tr th:only-of-type {\n",
       "        vertical-align: middle;\n",
       "    }\n",
       "\n",
       "    .dataframe tbody tr th {\n",
       "        vertical-align: top;\n",
       "    }\n",
       "\n",
       "    .dataframe thead th {\n",
       "        text-align: right;\n",
       "    }\n",
       "</style>\n",
       "<table border=\"1\" class=\"dataframe\">\n",
       "  <thead>\n",
       "    <tr style=\"text-align: right;\">\n",
       "      <th></th>\n",
       "      <th>reservation_id</th>\n",
       "      <th>booking_date</th>\n",
       "      <th>checkin_date</th>\n",
       "      <th>checkout_date</th>\n",
       "      <th>channel_code</th>\n",
       "      <th>main_product_code</th>\n",
       "      <th>numberofadults</th>\n",
       "      <th>numberofchildren</th>\n",
       "      <th>persontravellingid</th>\n",
       "      <th>resort_region_code</th>\n",
       "      <th>...</th>\n",
       "      <th>state_code_residence</th>\n",
       "      <th>state_code_resort</th>\n",
       "      <th>total_pax</th>\n",
       "      <th>member_age_buckets</th>\n",
       "      <th>booking_type_code</th>\n",
       "      <th>memberid</th>\n",
       "      <th>cluster_code</th>\n",
       "      <th>reservationstatusid_code</th>\n",
       "      <th>resort_id</th>\n",
       "      <th>amount_spent_per_room_night_scaled</th>\n",
       "    </tr>\n",
       "  </thead>\n",
       "  <tbody>\n",
       "    <tr>\n",
       "      <th>0</th>\n",
       "      <td>07659f3758d8aee27f5a7e2887adeacb67021cb95ada1b...</td>\n",
       "      <td>2018-05-04</td>\n",
       "      <td>2018-05-04</td>\n",
       "      <td>2018-06-04</td>\n",
       "      <td>3</td>\n",
       "      <td>1</td>\n",
       "      <td>2</td>\n",
       "      <td>0</td>\n",
       "      <td>46</td>\n",
       "      <td>3</td>\n",
       "      <td>...</td>\n",
       "      <td>7.0</td>\n",
       "      <td>3</td>\n",
       "      <td>3</td>\n",
       "      <td>F</td>\n",
       "      <td>1</td>\n",
       "      <td>3d1539e56495b6991f0a3ef5a61ca3d03ce4fff7380e9a...</td>\n",
       "      <td>F</td>\n",
       "      <td>C</td>\n",
       "      <td>4e07408562bedb8b60ce05c1decfe3ad16b72230967de0...</td>\n",
       "      <td>7.706428</td>\n",
       "    </tr>\n",
       "    <tr>\n",
       "      <th>1</th>\n",
       "      <td>03930f033646d073462b35d411616323597715ac4fc398...</td>\n",
       "      <td>2015-01-23</td>\n",
       "      <td>2015-11-04</td>\n",
       "      <td>2015-04-16</td>\n",
       "      <td>1</td>\n",
       "      <td>1</td>\n",
       "      <td>2</td>\n",
       "      <td>0</td>\n",
       "      <td>46</td>\n",
       "      <td>3</td>\n",
       "      <td>...</td>\n",
       "      <td>7.0</td>\n",
       "      <td>5</td>\n",
       "      <td>2</td>\n",
       "      <td>F</td>\n",
       "      <td>1</td>\n",
       "      <td>3d1539e56495b6991f0a3ef5a61ca3d03ce4fff7380e9a...</td>\n",
       "      <td>F</td>\n",
       "      <td>A</td>\n",
       "      <td>39fa9ec190eee7b6f4dff1100d6343e10918d044c75eac...</td>\n",
       "      <td>6.662563</td>\n",
       "    </tr>\n",
       "    <tr>\n",
       "      <th>2</th>\n",
       "      <td>d145a32920e6587ad95bfe299d80c0affa268220535aaf...</td>\n",
       "      <td>2015-01-28</td>\n",
       "      <td>2015-01-02</td>\n",
       "      <td>2015-05-02</td>\n",
       "      <td>1</td>\n",
       "      <td>1</td>\n",
       "      <td>2</td>\n",
       "      <td>0</td>\n",
       "      <td>47</td>\n",
       "      <td>1</td>\n",
       "      <td>...</td>\n",
       "      <td>7.0</td>\n",
       "      <td>1</td>\n",
       "      <td>2</td>\n",
       "      <td>F</td>\n",
       "      <td>1</td>\n",
       "      <td>3d1539e56495b6991f0a3ef5a61ca3d03ce4fff7380e9a...</td>\n",
       "      <td>E</td>\n",
       "      <td>A</td>\n",
       "      <td>535fa30d7e25dd8a49f1536779734ec8286108d115da50...</td>\n",
       "      <td>7.871602</td>\n",
       "    </tr>\n",
       "    <tr>\n",
       "      <th>3</th>\n",
       "      <td>cfd77f44811ed62f25a220b53324cdbafc662a4c9e5f04...</td>\n",
       "      <td>2015-02-05</td>\n",
       "      <td>2015-11-06</td>\n",
       "      <td>2015-06-16</td>\n",
       "      <td>1</td>\n",
       "      <td>1</td>\n",
       "      <td>2</td>\n",
       "      <td>2</td>\n",
       "      <td>46</td>\n",
       "      <td>2</td>\n",
       "      <td>...</td>\n",
       "      <td>7.0</td>\n",
       "      <td>2</td>\n",
       "      <td>2</td>\n",
       "      <td>F</td>\n",
       "      <td>1</td>\n",
       "      <td>3d1539e56495b6991f0a3ef5a61ca3d03ce4fff7380e9a...</td>\n",
       "      <td>D</td>\n",
       "      <td>A</td>\n",
       "      <td>d4735e3a265e16eee03f59718b9b5d03019c07d8b6c51f...</td>\n",
       "      <td>5.344943</td>\n",
       "    </tr>\n",
       "    <tr>\n",
       "      <th>4</th>\n",
       "      <td>937cff9e4dcfc2459620153dfc8b9962ac22bea67dfb29...</td>\n",
       "      <td>2015-02-09</td>\n",
       "      <td>2015-12-14</td>\n",
       "      <td>2015-12-19</td>\n",
       "      <td>1</td>\n",
       "      <td>1</td>\n",
       "      <td>2</td>\n",
       "      <td>0</td>\n",
       "      <td>46</td>\n",
       "      <td>2</td>\n",
       "      <td>...</td>\n",
       "      <td>7.0</td>\n",
       "      <td>2</td>\n",
       "      <td>2</td>\n",
       "      <td>F</td>\n",
       "      <td>1</td>\n",
       "      <td>3d1539e56495b6991f0a3ef5a61ca3d03ce4fff7380e9a...</td>\n",
       "      <td>D</td>\n",
       "      <td>A</td>\n",
       "      <td>d4735e3a265e16eee03f59718b9b5d03019c07d8b6c51f...</td>\n",
       "      <td>7.059346</td>\n",
       "    </tr>\n",
       "  </tbody>\n",
       "</table>\n",
       "<p>5 rows × 24 columns</p>\n",
       "</div>"
      ],
      "text/plain": [
       "                                      reservation_id booking_date  \\\n",
       "0  07659f3758d8aee27f5a7e2887adeacb67021cb95ada1b...   2018-05-04   \n",
       "1  03930f033646d073462b35d411616323597715ac4fc398...   2015-01-23   \n",
       "2  d145a32920e6587ad95bfe299d80c0affa268220535aaf...   2015-01-28   \n",
       "3  cfd77f44811ed62f25a220b53324cdbafc662a4c9e5f04...   2015-02-05   \n",
       "4  937cff9e4dcfc2459620153dfc8b9962ac22bea67dfb29...   2015-02-09   \n",
       "\n",
       "  checkin_date checkout_date  channel_code  main_product_code  numberofadults  \\\n",
       "0   2018-05-04    2018-06-04             3                  1               2   \n",
       "1   2015-11-04    2015-04-16             1                  1               2   \n",
       "2   2015-01-02    2015-05-02             1                  1               2   \n",
       "3   2015-11-06    2015-06-16             1                  1               2   \n",
       "4   2015-12-14    2015-12-19             1                  1               2   \n",
       "\n",
       "   numberofchildren  persontravellingid  resort_region_code  \\\n",
       "0                 0                  46                   3   \n",
       "1                 0                  46                   3   \n",
       "2                 0                  47                   1   \n",
       "3                 2                  46                   2   \n",
       "4                 0                  46                   2   \n",
       "\n",
       "                 ...                  state_code_residence  state_code_resort  \\\n",
       "0                ...                                   7.0                  3   \n",
       "1                ...                                   7.0                  5   \n",
       "2                ...                                   7.0                  1   \n",
       "3                ...                                   7.0                  2   \n",
       "4                ...                                   7.0                  2   \n",
       "\n",
       "   total_pax  member_age_buckets  booking_type_code  \\\n",
       "0          3                   F                  1   \n",
       "1          2                   F                  1   \n",
       "2          2                   F                  1   \n",
       "3          2                   F                  1   \n",
       "4          2                   F                  1   \n",
       "\n",
       "                                            memberid  cluster_code  \\\n",
       "0  3d1539e56495b6991f0a3ef5a61ca3d03ce4fff7380e9a...             F   \n",
       "1  3d1539e56495b6991f0a3ef5a61ca3d03ce4fff7380e9a...             F   \n",
       "2  3d1539e56495b6991f0a3ef5a61ca3d03ce4fff7380e9a...             E   \n",
       "3  3d1539e56495b6991f0a3ef5a61ca3d03ce4fff7380e9a...             D   \n",
       "4  3d1539e56495b6991f0a3ef5a61ca3d03ce4fff7380e9a...             D   \n",
       "\n",
       "  reservationstatusid_code                                          resort_id  \\\n",
       "0                        C  4e07408562bedb8b60ce05c1decfe3ad16b72230967de0...   \n",
       "1                        A  39fa9ec190eee7b6f4dff1100d6343e10918d044c75eac...   \n",
       "2                        A  535fa30d7e25dd8a49f1536779734ec8286108d115da50...   \n",
       "3                        A  d4735e3a265e16eee03f59718b9b5d03019c07d8b6c51f...   \n",
       "4                        A  d4735e3a265e16eee03f59718b9b5d03019c07d8b6c51f...   \n",
       "\n",
       "  amount_spent_per_room_night_scaled  \n",
       "0                           7.706428  \n",
       "1                           6.662563  \n",
       "2                           7.871602  \n",
       "3                           5.344943  \n",
       "4                           7.059346  \n",
       "\n",
       "[5 rows x 24 columns]"
      ]
     },
     "execution_count": 5,
     "metadata": {},
     "output_type": "execute_result"
    }
   ],
   "source": [
    "train_path = 'train.csv'\n",
    "description_path = 'Data_Dictionary.xlsx'\n",
    "test_path = 'test.csv'\n",
    "train_data, description_data, test_data = dataget(train_path, description_path, test_path)\n",
    "df = train_data.copy()\n",
    "columns = df.columns\n",
    "df.head()"
   ]
  },
  {
   "cell_type": "code",
   "execution_count": 7,
   "metadata": {},
   "outputs": [
    {
     "data": {
      "text/html": [
       "<div>\n",
       "<style scoped>\n",
       "    .dataframe tbody tr th:only-of-type {\n",
       "        vertical-align: middle;\n",
       "    }\n",
       "\n",
       "    .dataframe tbody tr th {\n",
       "        vertical-align: top;\n",
       "    }\n",
       "\n",
       "    .dataframe thead th {\n",
       "        text-align: right;\n",
       "    }\n",
       "</style>\n",
       "<table border=\"1\" class=\"dataframe\">\n",
       "  <thead>\n",
       "    <tr style=\"text-align: right;\">\n",
       "      <th></th>\n",
       "      <th>Variable</th>\n",
       "      <th>Description</th>\n",
       "    </tr>\n",
       "  </thead>\n",
       "  <tbody>\n",
       "    <tr>\n",
       "      <th>0</th>\n",
       "      <td>reservation_id</td>\n",
       "      <td>Reservation ID</td>\n",
       "    </tr>\n",
       "    <tr>\n",
       "      <th>1</th>\n",
       "      <td>booking_date</td>\n",
       "      <td>Date of booking</td>\n",
       "    </tr>\n",
       "    <tr>\n",
       "      <th>2</th>\n",
       "      <td>checkin_date</td>\n",
       "      <td>Checkin date recorded at the time of booking</td>\n",
       "    </tr>\n",
       "    <tr>\n",
       "      <th>3</th>\n",
       "      <td>checkout_date</td>\n",
       "      <td>Checkout date recorded at the time of booking</td>\n",
       "    </tr>\n",
       "    <tr>\n",
       "      <th>4</th>\n",
       "      <td>channel_code</td>\n",
       "      <td>Different channels of booking</td>\n",
       "    </tr>\n",
       "    <tr>\n",
       "      <th>5</th>\n",
       "      <td>main_product_code</td>\n",
       "      <td>Type of product a member has purchased</td>\n",
       "    </tr>\n",
       "    <tr>\n",
       "      <th>6</th>\n",
       "      <td>numberofadults</td>\n",
       "      <td>Number of adults travelling</td>\n",
       "    </tr>\n",
       "    <tr>\n",
       "      <th>7</th>\n",
       "      <td>numberofchildren</td>\n",
       "      <td>Number of children travelling</td>\n",
       "    </tr>\n",
       "    <tr>\n",
       "      <th>8</th>\n",
       "      <td>persontravellingid</td>\n",
       "      <td>Type of person travelling</td>\n",
       "    </tr>\n",
       "    <tr>\n",
       "      <th>9</th>\n",
       "      <td>resort_region_code</td>\n",
       "      <td>Resort Region</td>\n",
       "    </tr>\n",
       "    <tr>\n",
       "      <th>10</th>\n",
       "      <td>resort_type_code</td>\n",
       "      <td>Resort Type</td>\n",
       "    </tr>\n",
       "    <tr>\n",
       "      <th>11</th>\n",
       "      <td>room_type_booked_code</td>\n",
       "      <td>Room Type</td>\n",
       "    </tr>\n",
       "    <tr>\n",
       "      <th>12</th>\n",
       "      <td>roomnights</td>\n",
       "      <td>Number of roomnights booked</td>\n",
       "    </tr>\n",
       "    <tr>\n",
       "      <th>13</th>\n",
       "      <td>season_holidayed_code</td>\n",
       "      <td>Season Holidayed</td>\n",
       "    </tr>\n",
       "    <tr>\n",
       "      <th>14</th>\n",
       "      <td>state_code_residence</td>\n",
       "      <td>Residence State of Member</td>\n",
       "    </tr>\n",
       "    <tr>\n",
       "      <th>15</th>\n",
       "      <td>state_code_resort</td>\n",
       "      <td>State in which resort is located</td>\n",
       "    </tr>\n",
       "    <tr>\n",
       "      <th>16</th>\n",
       "      <td>total_pax</td>\n",
       "      <td>Total persons travelling</td>\n",
       "    </tr>\n",
       "    <tr>\n",
       "      <th>17</th>\n",
       "      <td>member_age_buckets</td>\n",
       "      <td>Age bucket of the member</td>\n",
       "    </tr>\n",
       "    <tr>\n",
       "      <th>18</th>\n",
       "      <td>booking_type_code</td>\n",
       "      <td>Type of Booking</td>\n",
       "    </tr>\n",
       "    <tr>\n",
       "      <th>19</th>\n",
       "      <td>memberid</td>\n",
       "      <td>Unique ID of the member</td>\n",
       "    </tr>\n",
       "    <tr>\n",
       "      <th>20</th>\n",
       "      <td>cluster_code</td>\n",
       "      <td>Cluster Code of Resort</td>\n",
       "    </tr>\n",
       "    <tr>\n",
       "      <th>21</th>\n",
       "      <td>reservationstatusid_code</td>\n",
       "      <td>Reservation Status ID</td>\n",
       "    </tr>\n",
       "    <tr>\n",
       "      <th>22</th>\n",
       "      <td>resort_id</td>\n",
       "      <td>Unique Resort ID</td>\n",
       "    </tr>\n",
       "    <tr>\n",
       "      <th>23</th>\n",
       "      <td>amount_spent_per_room_night_scaled</td>\n",
       "      <td>(Target) Resort Spend Per Room Night</td>\n",
       "    </tr>\n",
       "  </tbody>\n",
       "</table>\n",
       "</div>"
      ],
      "text/plain": [
       "                              Variable  \\\n",
       "0                       reservation_id   \n",
       "1                         booking_date   \n",
       "2                         checkin_date   \n",
       "3                        checkout_date   \n",
       "4                         channel_code   \n",
       "5                    main_product_code   \n",
       "6                       numberofadults   \n",
       "7                     numberofchildren   \n",
       "8                   persontravellingid   \n",
       "9                   resort_region_code   \n",
       "10                    resort_type_code   \n",
       "11               room_type_booked_code   \n",
       "12                          roomnights   \n",
       "13               season_holidayed_code   \n",
       "14                state_code_residence   \n",
       "15                   state_code_resort   \n",
       "16                           total_pax   \n",
       "17                  member_age_buckets   \n",
       "18                   booking_type_code   \n",
       "19                            memberid   \n",
       "20                        cluster_code   \n",
       "21            reservationstatusid_code   \n",
       "22                           resort_id   \n",
       "23  amount_spent_per_room_night_scaled   \n",
       "\n",
       "                                      Description  \n",
       "0                                  Reservation ID  \n",
       "1                                 Date of booking  \n",
       "2    Checkin date recorded at the time of booking  \n",
       "3   Checkout date recorded at the time of booking  \n",
       "4                   Different channels of booking  \n",
       "5          Type of product a member has purchased  \n",
       "6                     Number of adults travelling  \n",
       "7                   Number of children travelling  \n",
       "8                       Type of person travelling  \n",
       "9                                   Resort Region  \n",
       "10                                    Resort Type  \n",
       "11                                      Room Type  \n",
       "12                    Number of roomnights booked  \n",
       "13                               Season Holidayed  \n",
       "14                      Residence State of Member  \n",
       "15               State in which resort is located  \n",
       "16                       Total persons travelling  \n",
       "17                       Age bucket of the member  \n",
       "18                                Type of Booking  \n",
       "19                        Unique ID of the member  \n",
       "20                         Cluster Code of Resort  \n",
       "21                          Reservation Status ID  \n",
       "22                               Unique Resort ID  \n",
       "23           (Target) Resort Spend Per Room Night  "
      ]
     },
     "execution_count": 7,
     "metadata": {},
     "output_type": "execute_result"
    }
   ],
   "source": [
    "description_data"
   ]
  },
  {
   "cell_type": "markdown",
   "metadata": {},
   "source": [
    "<h3> Preprocess as below</h3>\n",
    "<ul>\n",
    "    <li>Drop reservation_id</li>\n",
    "    <li>Compute abs(diff(booking_date,checkin_date))</li>\n",
    "    <li>Compute abs(diff(checkin_date, checkout_date))</li>\n",
    "    <li>Drop booking_date, checkin_date, checkout_date, reservation_id, state_code_residence, persontravellingid, memberid, resort_id</li>\n",
    "<li>Categories state_code_resort, channel_code, resort_region_code, season_holidayed_code, member_age_buckets, booking_type_code, cluster_code, reservationstatusid_code</li>\n",
    "    <li>abs(roomnights)</li>\n",
    "</ul>"
   ]
  },
  {
   "cell_type": "code",
   "execution_count": 8,
   "metadata": {
    "scrolled": true
   },
   "outputs": [
    {
     "name": "stdout",
     "output_type": "stream",
     "text": [
      "        channel_code  main_product_code  numberofadults  numberofchildren  \\\n",
      "count  341424.000000      341424.000000   341424.000000     341424.000000   \n",
      "mean        1.902810           2.208738        3.275361          0.362696   \n",
      "std         0.915311           0.823779        1.756062          0.758019   \n",
      "min         1.000000           1.000000        0.000000          0.000000   \n",
      "25%         1.000000           2.000000        2.000000          0.000000   \n",
      "50%         2.000000           2.000000        3.000000          0.000000   \n",
      "75%         3.000000           3.000000        4.000000          0.000000   \n",
      "max         3.000000           7.000000       32.000000         13.000000   \n",
      "\n",
      "       persontravellingid  resort_region_code  resort_type_code  \\\n",
      "count       341424.000000       341424.000000     341424.000000   \n",
      "mean           210.288905            1.772960          2.193832   \n",
      "std            865.735577            0.750806          1.551451   \n",
      "min             45.000000            1.000000          0.000000   \n",
      "25%             45.000000            1.000000          1.000000   \n",
      "50%             45.000000            2.000000          2.000000   \n",
      "75%             45.000000            2.000000          3.000000   \n",
      "max           4995.000000            3.000000          7.000000   \n",
      "\n",
      "       room_type_booked_code     roomnights  season_holidayed_code  \\\n",
      "count          341424.000000  341424.000000          341310.000000   \n",
      "mean                2.890321       3.738346               2.673862   \n",
      "std                 0.804260       2.479054               0.885650   \n",
      "min                 1.000000     -45.000000               1.000000   \n",
      "25%                 2.000000       2.000000               2.000000   \n",
      "50%                 3.000000       3.000000               3.000000   \n",
      "75%                 3.000000       4.000000               3.000000   \n",
      "max                 6.000000      60.000000               4.000000   \n",
      "\n",
      "       state_code_residence  state_code_resort      total_pax  \\\n",
      "count         336660.000000      341424.000000  341424.000000   \n",
      "mean               7.260708           4.763303       3.193390   \n",
      "std                4.701283           3.103909       1.167824   \n",
      "min                1.000000           1.000000       0.000000   \n",
      "25%                4.000000           2.000000       2.000000   \n",
      "50%                8.000000           5.000000       3.000000   \n",
      "75%                8.000000           7.000000       4.000000   \n",
      "max               38.000000          13.000000      24.000000   \n",
      "\n",
      "       booking_type_code  amount_spent_per_room_night_scaled  \n",
      "count      341424.000000                       341424.000000  \n",
      "mean            1.124209                            7.720801  \n",
      "std             0.329821                            1.090109  \n",
      "min             1.000000                            1.600397  \n",
      "25%             1.000000                            7.187260  \n",
      "50%             1.000000                            7.860814  \n",
      "75%             1.000000                            8.419144  \n",
      "max             2.000000                           10.816652  \n"
     ]
    }
   ],
   "source": [
    "print(df.describe())"
   ]
  },
  {
   "cell_type": "code",
   "execution_count": 9,
   "metadata": {
    "scrolled": true
   },
   "outputs": [
    {
     "name": "stdout",
     "output_type": "stream",
     "text": [
      "<class 'pandas.core.frame.DataFrame'>\n",
      "RangeIndex: 341424 entries, 0 to 341423\n",
      "Data columns (total 24 columns):\n",
      "reservation_id                        341424 non-null object\n",
      "booking_date                          341424 non-null datetime64[ns]\n",
      "checkin_date                          341424 non-null datetime64[ns]\n",
      "checkout_date                         341424 non-null datetime64[ns]\n",
      "channel_code                          341424 non-null int64\n",
      "main_product_code                     341424 non-null int64\n",
      "numberofadults                        341424 non-null int64\n",
      "numberofchildren                      341424 non-null int64\n",
      "persontravellingid                    341424 non-null int64\n",
      "resort_region_code                    341424 non-null int64\n",
      "resort_type_code                      341424 non-null int64\n",
      "room_type_booked_code                 341424 non-null int64\n",
      "roomnights                            341424 non-null int64\n",
      "season_holidayed_code                 341310 non-null float64\n",
      "state_code_residence                  336660 non-null float64\n",
      "state_code_resort                     341424 non-null int64\n",
      "total_pax                             341424 non-null int64\n",
      "member_age_buckets                    341424 non-null object\n",
      "booking_type_code                     341424 non-null int64\n",
      "memberid                              341424 non-null object\n",
      "cluster_code                          341424 non-null object\n",
      "reservationstatusid_code              341424 non-null object\n",
      "resort_id                             341424 non-null object\n",
      "amount_spent_per_room_night_scaled    341424 non-null float64\n",
      "dtypes: datetime64[ns](3), float64(3), int64(12), object(6)\n",
      "memory usage: 62.5+ MB\n",
      "None\n"
     ]
    }
   ],
   "source": [
    "print(df.info())"
   ]
  },
  {
   "cell_type": "code",
   "execution_count": 10,
   "metadata": {},
   "outputs": [],
   "source": [
    "df['roomnights'] = df['roomnights'].abs()\n",
    "df['time_to_vacation'] = (df['checkin_date'] - df['booking_date']).dt.days.abs()\n",
    "df['time_in_vacation'] = (df['checkout_date'] - df['checkin_date']).dt.days.abs()\n",
    "drop_cols = ['booking_date', 'checkin_date', 'checkout_date', 'reservation_id', 'state_code_residence', 'persontravellingid', 'memberid', 'resort_id']\n",
    "df.drop(drop_cols, axis=1, inplace=True)\n",
    "categories = ['state_code_resort', 'channel_code', 'resort_region_code', 'season_holidayed_code', 'member_age_buckets', 'booking_type_code', 'cluster_code', 'reservationstatusid_code']\n",
    "df[categories] = df[categories].apply(lambda x: x.astype('category'))\n",
    "plt_data = df.copy()\n",
    "df = pd.get_dummies(df, drop_first=True)"
   ]
  },
  {
   "cell_type": "code",
   "execution_count": 11,
   "metadata": {},
   "outputs": [],
   "source": [
    "x_train = df.copy()\n",
    "y_train = x_train['amount_spent_per_room_night_scaled'].values\n",
    "x_train.drop(['amount_spent_per_room_night_scaled'], axis=1, inplace=True)"
   ]
  },
  {
   "cell_type": "code",
   "execution_count": 12,
   "metadata": {},
   "outputs": [
    {
     "data": {
      "image/png": "[encoded data removed]",
      "text/plain": [
       "<matplotlib.figure.Figure at 0x4f01287c50>"
      ]
     },
     "metadata": {
      "needs_background": "light"
     },
     "output_type": "display_data"
    }
   ],
   "source": [
    "C_mat = train_data.corr()\n",
    "fig = plt.figure(figsize = (15,15))\n",
    "\n",
    "sns.heatmap(C_mat, vmax = .8, square = True)\n",
    "plt.show()"
   ]
  },
  {
   "cell_type": "code",
   "execution_count": 89,
   "metadata": {},
   "outputs": [],
   "source": [
    "epochs = 15\n",
    "modelh5 = 'ClubMahindraRegressor'\n",
    "loadmodelh5 = 'ClubMahindraRegressor-best'"
   ]
  },
  {
   "cell_type": "code",
   "execution_count": 96,
   "metadata": {},
   "outputs": [
    {
     "name": "stdout",
     "output_type": "stream",
     "text": [
      "Building the model for the first time\n"
     ]
    }
   ],
   "source": [
    "try:\n",
    "    model = load_model(loadmodelh5 + '.h5')\n",
    "    print('Model loaded successfully')\n",
    "except IOError:\n",
    "    print('Building the model for the first time')\n",
    "    model = Sequential()\n",
    "    model.add(Dense(44, input_dim=44, activation='elu'))\n",
    "    model.add(BatchNormalization())\n",
    "    model.add(Dense(64, kernel_initializer='normal', activation='elu'))\n",
    "    model.add(BatchNormalization())\n",
    "    model.add(Dense(64, kernel_initializer='normal', activation='elu'))\n",
    "    model.add(BatchNormalization())\n",
    "    model.add(Dense(32, kernel_initializer='normal', activation='elu'))\n",
    "    model.add(BatchNormalization())\n",
    "    model.add(Dense(1, kernel_initializer='normal'))\n",
    "    # Compile model\n",
    "    model.compile(loss='mean_squared_error', optimizer='adam',  metrics=['mse'])\n",
    "savebestmodel = ModelCheckpoint(modelh5 + '-best.h5', monitor='loss', verbose=0, save_best_only=True)"
   ]
  },
  {
   "cell_type": "code",
   "execution_count": 97,
   "metadata": {},
   "outputs": [
    {
     "name": "stdout",
     "output_type": "stream",
     "text": [
      "_________________________________________________________________\n",
      "Layer (type)                 Output Shape              Param #   \n",
      "=================================================================\n",
      "dense_39 (Dense)             (None, 44)                1980      \n",
      "_________________________________________________________________\n",
      "batch_normalization_31 (Batc (None, 44)                176       \n",
      "_________________________________________________________________\n",
      "dense_40 (Dense)             (None, 64)                2880      \n",
      "_________________________________________________________________\n",
      "batch_normalization_32 (Batc (None, 64)                256       \n",
      "_________________________________________________________________\n",
      "dense_41 (Dense)             (None, 64)                4160      \n",
      "_________________________________________________________________\n",
      "batch_normalization_33 (Batc (None, 64)                256       \n",
      "_________________________________________________________________\n",
      "dense_42 (Dense)             (None, 32)                2080      \n",
      "_________________________________________________________________\n",
      "batch_normalization_34 (Batc (None, 32)                128       \n",
      "_________________________________________________________________\n",
      "dense_43 (Dense)             (None, 1)                 33        \n",
      "=================================================================\n",
      "Total params: 11,949\n",
      "Trainable params: 11,541\n",
      "Non-trainable params: 408\n",
      "_________________________________________________________________\n"
     ]
    }
   ],
   "source": [
    "model.summary()"
   ]
  },
  {
   "cell_type": "markdown",
   "metadata": {},
   "source": [
    "# Scale the data to a single range"
   ]
  },
  {
   "cell_type": "code",
   "execution_count": 94,
   "metadata": {},
   "outputs": [],
   "source": [
    "scaler = RobustScaler()\n",
    "x_train = scaler.fit_transform(x_train)"
   ]
  },
  {
   "cell_type": "code",
   "execution_count": 103,
   "metadata": {},
   "outputs": [
    {
     "name": "stdout",
     "output_type": "stream",
     "text": [
      "Train on 338009 samples, validate on 3415 samples\n",
      "Epoch 1/15\n",
      "338009/338009 [==============================] - 9s 26us/step - loss: 0.0172 - mean_squared_error: 1.0608 - val_loss: 0.0179 - val_mean_squared_error: 1.1561\n",
      "Epoch 2/15\n",
      "338009/338009 [==============================] - 7s 20us/step - loss: 0.0172 - mean_squared_error: 1.0611 - val_loss: 0.0181 - val_mean_squared_error: 1.1722\n",
      "Epoch 3/15\n",
      "338009/338009 [==============================] - 9s 27us/step - loss: 0.0172 - mean_squared_error: 1.0611 - val_loss: 0.0178 - val_mean_squared_error: 1.1346\n",
      "Epoch 4/15\n",
      "338009/338009 [==============================] - 8s 25us/step - loss: 0.0172 - mean_squared_error: 1.0607 - val_loss: 0.0181 - val_mean_squared_error: 1.1657\n",
      "Epoch 5/15\n",
      "338009/338009 [==============================] - 7s 20us/step - loss: 0.0172 - mean_squared_error: 1.0592 - val_loss: 0.0178 - val_mean_squared_error: 1.1404\n",
      "Epoch 6/15\n",
      "338009/338009 [==============================] - 7s 20us/step - loss: 0.0172 - mean_squared_error: 1.0584 - val_loss: 0.0179 - val_mean_squared_error: 1.1530\n",
      "Epoch 7/15\n",
      "338009/338009 [==============================] - 10s 30us/step - loss: 0.0172 - mean_squared_error: 1.0588 - val_loss: 0.0177 - val_mean_squared_error: 1.1327\n",
      "Epoch 8/15\n",
      "338009/338009 [==============================] - 7s 20us/step - loss: 0.0172 - mean_squared_error: 1.0583 - val_loss: 0.0177 - val_mean_squared_error: 1.1329\n",
      "Epoch 9/15\n",
      "338009/338009 [==============================] - 7s 21us/step - loss: 0.0172 - mean_squared_error: 1.0572 - val_loss: 0.0179 - val_mean_squared_error: 1.1439\n",
      "Epoch 10/15\n",
      "338009/338009 [==============================] - 7s 21us/step - loss: 0.0172 - mean_squared_error: 1.0574 - val_loss: 0.0179 - val_mean_squared_error: 1.1439\n",
      "Epoch 11/15\n",
      "338009/338009 [==============================] - 7s 20us/step - loss: 0.0172 - mean_squared_error: 1.0566 - val_loss: 0.0182 - val_mean_squared_error: 1.1862\n",
      "Epoch 12/15\n",
      "338009/338009 [==============================] - 8s 25us/step - loss: 0.0172 - mean_squared_error: 1.0562 - val_loss: 0.0178 - val_mean_squared_error: 1.1464 - mean_squared_error: \n",
      "Epoch 13/15\n",
      "338009/338009 [==============================] - 8s 25us/step - loss: 0.0172 - mean_squared_error: 1.0557 - val_loss: 0.0182 - val_mean_squared_error: 1.1838\n",
      "Epoch 14/15\n",
      "338009/338009 [==============================] - 8s 24us/step - loss: 0.0172 - mean_squared_error: 1.0560 - val_loss: 0.0179 - val_mean_squared_error: 1.1482\n",
      "Epoch 15/15\n",
      "338009/338009 [==============================] - 8s 24us/step - loss: 0.0171 - mean_squared_error: 1.0549 - val_loss: 0.0178 - val_mean_squared_error: 1.1381\n",
      "Wall time: 1min 57s\n"
     ]
    },
    {
     "data": {
      "text/plain": [
       "<keras.callbacks.History at 0x4fc9b8bf60>"
      ]
     },
     "execution_count": 103,
     "metadata": {},
     "output_type": "execute_result"
    }
   ],
   "source": [
    "%%time\n",
    "model.fit(x_train, y_train,\n",
    "          validation_split=0.01, epochs=epochs, batch_size=1024, callbacks=[savebestmodel])"
   ]
  },
  {
   "cell_type": "code",
   "execution_count": 101,
   "metadata": {},
   "outputs": [],
   "source": [
    "y_true, y_pred = y_train, model.predict(x_train, batch_size=1024)"
   ]
  },
  {
   "cell_type": "code",
   "execution_count": 102,
   "metadata": {},
   "outputs": [
    {
     "name": "stdout",
     "output_type": "stream",
     "text": [
      "0.10762892937103319\n"
     ]
    }
   ],
   "source": [
    "print(r2_score(y_true, y_pred))"
   ]
  },
  {
   "cell_type": "code",
   "execution_count": 74,
   "metadata": {},
   "outputs": [
    {
     "data": {
      "text/plain": [
       "0.9888111334420759"
      ]
     },
     "execution_count": 74,
     "metadata": {},
     "output_type": "execute_result"
    }
   ],
   "source": [
    "mean_squared_error(y_true, y_pred)"
   ]
  },
  {
   "cell_type": "code",
   "execution_count": 75,
   "metadata": {},
   "outputs": [
    {
     "data": {
      "text/plain": [
       "array([7.70642846, 6.66256293, 7.87160208, 5.34494329, 7.05934611,\n",
       "       8.16770664, 6.44983831, 7.04617197, 5.39420314, 6.56141249,\n",
       "       6.82000545, 6.62445028, 7.47622886, 4.13963655, 9.93215324,\n",
       "       3.21887583, 9.68403954, 7.27534197, 5.17507571, 7.46175676])"
      ]
     },
     "execution_count": 75,
     "metadata": {},
     "output_type": "execute_result"
    }
   ],
   "source": [
    "y_true[0:20]"
   ]
  },
  {
   "cell_type": "code",
   "execution_count": 76,
   "metadata": {},
   "outputs": [
    {
     "data": {
      "text/plain": [
       "array([[8.098379 ],\n",
       "       [7.080516 ],\n",
       "       [7.5877323],\n",
       "       [7.2183204],\n",
       "       [6.807995 ],\n",
       "       [7.510646 ],\n",
       "       [7.5803256],\n",
       "       [7.7134852],\n",
       "       [6.801401 ],\n",
       "       [7.491496 ],\n",
       "       [7.4881096],\n",
       "       [8.154101 ],\n",
       "       [7.754867 ],\n",
       "       [7.5848618],\n",
       "       [8.62653  ],\n",
       "       [7.2999454],\n",
       "       [8.259057 ],\n",
       "       [7.2715187],\n",
       "       [7.438636 ],\n",
       "       [8.110057 ]], dtype=float32)"
      ]
     },
     "execution_count": 76,
     "metadata": {},
     "output_type": "execute_result"
    }
   ],
   "source": [
    "y_pred[0:20]"
   ]
  },
  {
   "cell_type": "code",
   "execution_count": 77,
   "metadata": {},
   "outputs": [],
   "source": [
    "df = test_data.copy()\n",
    "df['roomnights'] = df['roomnights'].abs()\n",
    "df['time_to_vacation'] = (df['checkin_date'] - df['booking_date']).dt.days.abs()\n",
    "df['time_in_vacation'] = (df['checkout_date'] - df['checkin_date']).dt.days.abs()\n",
    "drop_cols = ['booking_date', 'checkin_date', 'checkout_date', 'reservation_id', 'state_code_residence', 'persontravellingid', 'state_code_residence', 'memberid', 'resort_id']\n",
    "df.drop(drop_cols, axis=1, inplace=True)\n",
    "categories = ['state_code_resort', 'channel_code', 'resort_region_code', 'season_holidayed_code', 'member_age_buckets', 'booking_type_code', 'cluster_code', 'reservationstatusid_code']\n",
    "df[categories] = df[categories].apply(lambda x: x.astype('category'))\n",
    "plt_data = df.copy()\n",
    "df = pd.get_dummies(df, drop_first=True)"
   ]
  },
  {
   "cell_type": "code",
   "execution_count": 78,
   "metadata": {},
   "outputs": [],
   "source": [
    "x_test = df.copy()"
   ]
  },
  {
   "cell_type": "code",
   "execution_count": 79,
   "metadata": {},
   "outputs": [],
   "source": [
    "x_test['reservationstatusid_code_D'] = 0"
   ]
  },
  {
   "cell_type": "code",
   "execution_count": 80,
   "metadata": {},
   "outputs": [],
   "source": [
    "x_test = scaler.fit_transform(x_test)"
   ]
  },
  {
   "cell_type": "code",
   "execution_count": 81,
   "metadata": {},
   "outputs": [],
   "source": [
    "y_pred = model.predict(x_test, batch_size=1024)"
   ]
  },
  {
   "cell_type": "code",
   "execution_count": 82,
   "metadata": {},
   "outputs": [],
   "source": [
    "ids = test_data['reservation_id'].values"
   ]
  },
  {
   "cell_type": "code",
   "execution_count": 83,
   "metadata": {},
   "outputs": [],
   "source": [
    "res = pd.DataFrame(data={'reservation_id' : ids})\n",
    "res['amount_spent_per_room_night_scaled'] = y_pred\n",
    "res.to_csv('submission.csv', index=False)"
   ]
  }
 ],
 "metadata": {
  "kernelspec": {
   "display_name": "Python 3",
   "language": "python",
   "name": "python3"
  },
  "language_info": {
   "codemirror_mode": {
    "name": "ipython",
    "version": 3
   },
   "file_extension": ".py",
   "mimetype": "text/x-python",
   "name": "python",
   "nbconvert_exporter": "python",
   "pygments_lexer": "ipython3",
   "version": "3.6.3"
  }
 },
 "nbformat": 4,
 "nbformat_minor": 1
}
