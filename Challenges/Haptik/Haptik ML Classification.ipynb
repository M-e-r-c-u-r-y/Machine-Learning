{
 "cells": [
  {
   "cell_type": "markdown",
   "metadata": {},
   "source": [
    "# IMDB Sentiment Classification"
   ]
  },
  {
   "cell_type": "code",
   "execution_count": 1,
   "metadata": {},
   "outputs": [],
   "source": [
    "%matplotlib inline\n",
    "import matplotlib.pyplot as plt\n",
    "import numpy as np\n",
    "import pandas as pd"
   ]
  },
  {
   "cell_type": "code",
   "execution_count": 2,
   "metadata": {},
   "outputs": [
    {
     "name": "stderr",
     "output_type": "stream",
     "text": [
      "Using TensorFlow backend.\n"
     ]
    }
   ],
   "source": [
    "from keras.callbacks import LambdaCallback, ModelCheckpoint\n",
    "from keras.datasets import imdb\n",
    "from keras.layers import Dense, AlphaDropout, BatchNormalization, GRU, Embedding\n",
    "from keras.models import Sequential, load_model\n",
    "from keras.preprocessing.text import Tokenizer\n",
    "from keras.preprocessing.sequence import pad_sequences\n",
    "\n",
    "from sklearn.metrics import classification_report\n",
    "from sklearn.model_selection import train_test_split"
   ]
  },
  {
   "cell_type": "code",
   "execution_count": 46,
   "metadata": {},
   "outputs": [],
   "source": [
    "data = pd.read_csv('training.csv')"
   ]
  },
  {
   "cell_type": "code",
   "execution_count": 47,
   "metadata": {},
   "outputs": [
    {
     "data": {
      "text/html": [
       "<div>\n",
       "<style scoped>\n",
       "    .dataframe tbody tr th:only-of-type {\n",
       "        vertical-align: middle;\n",
       "    }\n",
       "\n",
       "    .dataframe tbody tr th {\n",
       "        vertical-align: top;\n",
       "    }\n",
       "\n",
       "    .dataframe thead th {\n",
       "        text-align: right;\n",
       "    }\n",
       "</style>\n",
       "<table border=\"1\" class=\"dataframe\">\n",
       "  <thead>\n",
       "    <tr style=\"text-align: right;\">\n",
       "      <th></th>\n",
       "      <th>id</th>\n",
       "      <th>category</th>\n",
       "      <th>text</th>\n",
       "    </tr>\n",
       "  </thead>\n",
       "  <tbody>\n",
       "    <tr>\n",
       "      <th>0</th>\n",
       "      <td>959</td>\n",
       "      <td>0</td>\n",
       "      <td>5573 1189 4017 1207 4768 8542 17 1189 5085 5773</td>\n",
       "    </tr>\n",
       "    <tr>\n",
       "      <th>1</th>\n",
       "      <td>994</td>\n",
       "      <td>0</td>\n",
       "      <td>6315 7507 6700 4742 1944 2692 3647 4413 6700</td>\n",
       "    </tr>\n",
       "    <tr>\n",
       "      <th>2</th>\n",
       "      <td>995</td>\n",
       "      <td>0</td>\n",
       "      <td>5015 8067 5335 1615 7957 5773</td>\n",
       "    </tr>\n",
       "    <tr>\n",
       "      <th>3</th>\n",
       "      <td>996</td>\n",
       "      <td>0</td>\n",
       "      <td>2925 7199 1994 4647 7455 5773 4518 2734 2807 8...</td>\n",
       "    </tr>\n",
       "    <tr>\n",
       "      <th>4</th>\n",
       "      <td>997</td>\n",
       "      <td>0</td>\n",
       "      <td>7136 1207 6781 237 4971 3669 6193</td>\n",
       "    </tr>\n",
       "  </tbody>\n",
       "</table>\n",
       "</div>"
      ],
      "text/plain": [
       "    id  category                                               text\n",
       "0  959         0    5573 1189 4017 1207 4768 8542 17 1189 5085 5773\n",
       "1  994         0       6315 7507 6700 4742 1944 2692 3647 4413 6700\n",
       "2  995         0                      5015 8067 5335 1615 7957 5773\n",
       "3  996         0  2925 7199 1994 4647 7455 5773 4518 2734 2807 8...\n",
       "4  997         0                  7136 1207 6781 237 4971 3669 6193"
      ]
     },
     "execution_count": 47,
     "metadata": {},
     "output_type": "execute_result"
    }
   ],
   "source": [
    "data.head()"
   ]
  },
  {
   "cell_type": "code",
   "execution_count": 48,
   "metadata": {},
   "outputs": [],
   "source": [
    "data.drop(columns='id', inplace=True)"
   ]
  },
  {
   "cell_type": "markdown",
   "metadata": {},
   "source": [
    "# Get the length of each tokenized sentence"
   ]
  },
  {
   "cell_type": "code",
   "execution_count": 50,
   "metadata": {},
   "outputs": [],
   "source": [
    "x_train = [el.split(' ') for el in data['text']]\n",
    "num_tokens = [len(tokens) for tokens in x_train]"
   ]
  },
  {
   "cell_type": "code",
   "execution_count": 51,
   "metadata": {},
   "outputs": [],
   "source": [
    "lengths = pd.DataFrame(data=num_tokens)"
   ]
  },
  {
   "cell_type": "code",
   "execution_count": 52,
   "metadata": {},
   "outputs": [
    {
     "data": {
      "text/html": [
       "<div>\n",
       "<style scoped>\n",
       "    .dataframe tbody tr th:only-of-type {\n",
       "        vertical-align: middle;\n",
       "    }\n",
       "\n",
       "    .dataframe tbody tr th {\n",
       "        vertical-align: top;\n",
       "    }\n",
       "\n",
       "    .dataframe thead th {\n",
       "        text-align: right;\n",
       "    }\n",
       "</style>\n",
       "<table border=\"1\" class=\"dataframe\">\n",
       "  <thead>\n",
       "    <tr style=\"text-align: right;\">\n",
       "      <th></th>\n",
       "      <th>0</th>\n",
       "    </tr>\n",
       "  </thead>\n",
       "  <tbody>\n",
       "    <tr>\n",
       "      <th>0</th>\n",
       "      <td>10</td>\n",
       "    </tr>\n",
       "    <tr>\n",
       "      <th>1</th>\n",
       "      <td>9</td>\n",
       "    </tr>\n",
       "    <tr>\n",
       "      <th>2</th>\n",
       "      <td>6</td>\n",
       "    </tr>\n",
       "    <tr>\n",
       "      <th>3</th>\n",
       "      <td>24</td>\n",
       "    </tr>\n",
       "    <tr>\n",
       "      <th>4</th>\n",
       "      <td>7</td>\n",
       "    </tr>\n",
       "  </tbody>\n",
       "</table>\n",
       "</div>"
      ],
      "text/plain": [
       "    0\n",
       "0  10\n",
       "1   9\n",
       "2   6\n",
       "3  24\n",
       "4   7"
      ]
     },
     "execution_count": 52,
     "metadata": {},
     "output_type": "execute_result"
    }
   ],
   "source": [
    "lengths.head()"
   ]
  },
  {
   "cell_type": "markdown",
   "metadata": {},
   "source": [
    "# Let's look at some statistical information of the length of the tokens"
   ]
  },
  {
   "cell_type": "code",
   "execution_count": 53,
   "metadata": {},
   "outputs": [
    {
     "data": {
      "text/html": [
       "<div>\n",
       "<style scoped>\n",
       "    .dataframe tbody tr th:only-of-type {\n",
       "        vertical-align: middle;\n",
       "    }\n",
       "\n",
       "    .dataframe tbody tr th {\n",
       "        vertical-align: top;\n",
       "    }\n",
       "\n",
       "    .dataframe thead th {\n",
       "        text-align: right;\n",
       "    }\n",
       "</style>\n",
       "<table border=\"1\" class=\"dataframe\">\n",
       "  <thead>\n",
       "    <tr style=\"text-align: right;\">\n",
       "      <th></th>\n",
       "      <th>0</th>\n",
       "    </tr>\n",
       "  </thead>\n",
       "  <tbody>\n",
       "    <tr>\n",
       "      <th>count</th>\n",
       "      <td>3464.000000</td>\n",
       "    </tr>\n",
       "    <tr>\n",
       "      <th>mean</th>\n",
       "      <td>18.840069</td>\n",
       "    </tr>\n",
       "    <tr>\n",
       "      <th>std</th>\n",
       "      <td>107.460556</td>\n",
       "    </tr>\n",
       "    <tr>\n",
       "      <th>min</th>\n",
       "      <td>1.000000</td>\n",
       "    </tr>\n",
       "    <tr>\n",
       "      <th>25%</th>\n",
       "      <td>8.000000</td>\n",
       "    </tr>\n",
       "    <tr>\n",
       "      <th>50%</th>\n",
       "      <td>13.000000</td>\n",
       "    </tr>\n",
       "    <tr>\n",
       "      <th>75%</th>\n",
       "      <td>23.000000</td>\n",
       "    </tr>\n",
       "    <tr>\n",
       "      <th>max</th>\n",
       "      <td>6290.000000</td>\n",
       "    </tr>\n",
       "  </tbody>\n",
       "</table>\n",
       "</div>"
      ],
      "text/plain": [
       "                 0\n",
       "count  3464.000000\n",
       "mean     18.840069\n",
       "std     107.460556\n",
       "min       1.000000\n",
       "25%       8.000000\n",
       "50%      13.000000\n",
       "75%      23.000000\n",
       "max    6290.000000"
      ]
     },
     "execution_count": 53,
     "metadata": {},
     "output_type": "execute_result"
    }
   ],
   "source": [
    "lengths.describe()"
   ]
  },
  {
   "cell_type": "markdown",
   "metadata": {},
   "source": [
    "# Looks like 23 tokens per sentence can cover 100% information for 75% of the data set\n",
    "## We have some outliers that is causing the standard deviation to be very high\n",
    "### Let us plot with seq_lim bins and see how the plots are"
   ]
  },
  {
   "cell_type": "code",
   "execution_count": 54,
   "metadata": {},
   "outputs": [],
   "source": [
    "seq_lim = 80"
   ]
  },
  {
   "cell_type": "code",
   "execution_count": 55,
   "metadata": {},
   "outputs": [
    {
     "data": {
      "text/plain": [
       "array([[<matplotlib.axes._subplots.AxesSubplot object at 0x000000E493CF9940>]],\n",
       "      dtype=object)"
      ]
     },
     "execution_count": 55,
     "metadata": {},
     "output_type": "execute_result"
    },
    {
     "data": {
      "image/png": "[encoded data removed]",
      "text/plain": [
       "<matplotlib.figure.Figure at 0xe493cf9438>"
      ]
     },
     "metadata": {
      "needs_background": "light"
     },
     "output_type": "display_data"
    }
   ],
   "source": [
    "lengths.hist(bins=seq_lim)"
   ]
  },
  {
   "cell_type": "markdown",
   "metadata": {},
   "source": [
    "# Well the plot cements our earlier inference, most of the sequences are indeed in <= 23 tokens per sentence range\n",
    "## Let's limit the tokens to ~4 times the 75% of data, the other sequences\n",
    "## i.e., 24 to 80 should have enough information for the larger sentences/tokens to give us enough information to decide the class of the sentence"
   ]
  },
  {
   "cell_type": "markdown",
   "metadata": {},
   "source": [
    "# Limiting tokens to seq_lim, i.e., we are compressing the data, it is a lossy compression, similar to how a FLAC is compresses to MP3, the sounds are the same you may miss out on the quality a bit but it is not noticable to most users/ users with lower quality audio equipment.\n",
    "## We run the inference one again with this crude data transformation"
   ]
  },
  {
   "cell_type": "code",
   "execution_count": 57,
   "metadata": {},
   "outputs": [],
   "source": [
    "x_train = [el[0:seq_lim] for el in x_train]\n",
    "num_tokens = [len(tokens) for tokens in x_train]"
   ]
  },
  {
   "cell_type": "code",
   "execution_count": 58,
   "metadata": {},
   "outputs": [],
   "source": [
    "lengths = pd.DataFrame(data=num_tokens)"
   ]
  },
  {
   "cell_type": "code",
   "execution_count": 59,
   "metadata": {},
   "outputs": [
    {
     "data": {
      "text/html": [
       "<div>\n",
       "<style scoped>\n",
       "    .dataframe tbody tr th:only-of-type {\n",
       "        vertical-align: middle;\n",
       "    }\n",
       "\n",
       "    .dataframe tbody tr th {\n",
       "        vertical-align: top;\n",
       "    }\n",
       "\n",
       "    .dataframe thead th {\n",
       "        text-align: right;\n",
       "    }\n",
       "</style>\n",
       "<table border=\"1\" class=\"dataframe\">\n",
       "  <thead>\n",
       "    <tr style=\"text-align: right;\">\n",
       "      <th></th>\n",
       "      <th>0</th>\n",
       "    </tr>\n",
       "  </thead>\n",
       "  <tbody>\n",
       "    <tr>\n",
       "      <th>0</th>\n",
       "      <td>10</td>\n",
       "    </tr>\n",
       "    <tr>\n",
       "      <th>1</th>\n",
       "      <td>9</td>\n",
       "    </tr>\n",
       "    <tr>\n",
       "      <th>2</th>\n",
       "      <td>6</td>\n",
       "    </tr>\n",
       "    <tr>\n",
       "      <th>3</th>\n",
       "      <td>24</td>\n",
       "    </tr>\n",
       "    <tr>\n",
       "      <th>4</th>\n",
       "      <td>7</td>\n",
       "    </tr>\n",
       "  </tbody>\n",
       "</table>\n",
       "</div>"
      ],
      "text/plain": [
       "    0\n",
       "0  10\n",
       "1   9\n",
       "2   6\n",
       "3  24\n",
       "4   7"
      ]
     },
     "execution_count": 59,
     "metadata": {},
     "output_type": "execute_result"
    }
   ],
   "source": [
    "lengths.head()"
   ]
  },
  {
   "cell_type": "code",
   "execution_count": 60,
   "metadata": {},
   "outputs": [
    {
     "data": {
      "text/html": [
       "<div>\n",
       "<style scoped>\n",
       "    .dataframe tbody tr th:only-of-type {\n",
       "        vertical-align: middle;\n",
       "    }\n",
       "\n",
       "    .dataframe tbody tr th {\n",
       "        vertical-align: top;\n",
       "    }\n",
       "\n",
       "    .dataframe thead th {\n",
       "        text-align: right;\n",
       "    }\n",
       "</style>\n",
       "<table border=\"1\" class=\"dataframe\">\n",
       "  <thead>\n",
       "    <tr style=\"text-align: right;\">\n",
       "      <th></th>\n",
       "      <th>0</th>\n",
       "    </tr>\n",
       "  </thead>\n",
       "  <tbody>\n",
       "    <tr>\n",
       "      <th>count</th>\n",
       "      <td>3464.000000</td>\n",
       "    </tr>\n",
       "    <tr>\n",
       "      <th>mean</th>\n",
       "      <td>16.866917</td>\n",
       "    </tr>\n",
       "    <tr>\n",
       "      <th>std</th>\n",
       "      <td>12.527160</td>\n",
       "    </tr>\n",
       "    <tr>\n",
       "      <th>min</th>\n",
       "      <td>1.000000</td>\n",
       "    </tr>\n",
       "    <tr>\n",
       "      <th>25%</th>\n",
       "      <td>8.000000</td>\n",
       "    </tr>\n",
       "    <tr>\n",
       "      <th>50%</th>\n",
       "      <td>13.000000</td>\n",
       "    </tr>\n",
       "    <tr>\n",
       "      <th>75%</th>\n",
       "      <td>23.000000</td>\n",
       "    </tr>\n",
       "    <tr>\n",
       "      <th>max</th>\n",
       "      <td>80.000000</td>\n",
       "    </tr>\n",
       "  </tbody>\n",
       "</table>\n",
       "</div>"
      ],
      "text/plain": [
       "                 0\n",
       "count  3464.000000\n",
       "mean     16.866917\n",
       "std      12.527160\n",
       "min       1.000000\n",
       "25%       8.000000\n",
       "50%      13.000000\n",
       "75%      23.000000\n",
       "max      80.000000"
      ]
     },
     "execution_count": 60,
     "metadata": {},
     "output_type": "execute_result"
    }
   ],
   "source": [
    "lengths.describe()"
   ]
  },
  {
   "cell_type": "code",
   "execution_count": 61,
   "metadata": {},
   "outputs": [
    {
     "data": {
      "text/plain": [
       "array([[<matplotlib.axes._subplots.AxesSubplot object at 0x000000E46568EC18>]],\n",
       "      dtype=object)"
      ]
     },
     "execution_count": 61,
     "metadata": {},
     "output_type": "execute_result"
    },
    {
     "data": {
      "image/png": "[encoded data removed]",
      "text/plain": [
       "<matplotlib.figure.Figure at 0xe46566cf60>"
      ]
     },
     "metadata": {
      "needs_background": "light"
     },
     "output_type": "display_data"
    }
   ],
   "source": [
    "lengths.hist(bins=seq_lim)"
   ]
  },
  {
   "cell_type": "markdown",
   "metadata": {},
   "source": [
    "# We see significant improvement in the standard deviation of the lengths\n",
    "## Only about 30 sequences are >= 80 tokens, seems like a good enough compression with less loss. The are probably better ways to compress but this is the best I could think of for now"
   ]
  },
  {
   "cell_type": "code",
   "execution_count": 62,
   "metadata": {},
   "outputs": [],
   "source": [
    "data['text'] = x_train"
   ]
  },
  {
   "cell_type": "code",
   "execution_count": 63,
   "metadata": {},
   "outputs": [
    {
     "data": {
      "text/html": [
       "<div>\n",
       "<style scoped>\n",
       "    .dataframe tbody tr th:only-of-type {\n",
       "        vertical-align: middle;\n",
       "    }\n",
       "\n",
       "    .dataframe tbody tr th {\n",
       "        vertical-align: top;\n",
       "    }\n",
       "\n",
       "    .dataframe thead th {\n",
       "        text-align: right;\n",
       "    }\n",
       "</style>\n",
       "<table border=\"1\" class=\"dataframe\">\n",
       "  <thead>\n",
       "    <tr style=\"text-align: right;\">\n",
       "      <th></th>\n",
       "      <th>category</th>\n",
       "    </tr>\n",
       "  </thead>\n",
       "  <tbody>\n",
       "    <tr>\n",
       "      <th>count</th>\n",
       "      <td>116.0</td>\n",
       "    </tr>\n",
       "    <tr>\n",
       "      <th>mean</th>\n",
       "      <td>1.0</td>\n",
       "    </tr>\n",
       "    <tr>\n",
       "      <th>std</th>\n",
       "      <td>0.0</td>\n",
       "    </tr>\n",
       "    <tr>\n",
       "      <th>min</th>\n",
       "      <td>1.0</td>\n",
       "    </tr>\n",
       "    <tr>\n",
       "      <th>25%</th>\n",
       "      <td>1.0</td>\n",
       "    </tr>\n",
       "    <tr>\n",
       "      <th>50%</th>\n",
       "      <td>1.0</td>\n",
       "    </tr>\n",
       "    <tr>\n",
       "      <th>75%</th>\n",
       "      <td>1.0</td>\n",
       "    </tr>\n",
       "    <tr>\n",
       "      <th>max</th>\n",
       "      <td>1.0</td>\n",
       "    </tr>\n",
       "  </tbody>\n",
       "</table>\n",
       "</div>"
      ],
      "text/plain": [
       "       category\n",
       "count     116.0\n",
       "mean        1.0\n",
       "std         0.0\n",
       "min         1.0\n",
       "25%         1.0\n",
       "50%         1.0\n",
       "75%         1.0\n",
       "max         1.0"
      ]
     },
     "execution_count": 63,
     "metadata": {},
     "output_type": "execute_result"
    }
   ],
   "source": [
    "ones = data.loc[data['category'] == 1]\n",
    "zeroes =  data.loc[data['category'] == 0]\n",
    "ones.describe()"
   ]
  },
  {
   "cell_type": "markdown",
   "metadata": {},
   "source": [
    "# The data set is imbalanced, We balance the data set in a crude manner by only taking the same number of both class data to train the classifier"
   ]
  },
  {
   "cell_type": "code",
   "execution_count": 64,
   "metadata": {},
   "outputs": [],
   "source": [
    "t_zeroes = zeroes.sample(n=116, replace=False, random_state=1)\n",
    "frames = [ones, t_zeroes]\n",
    "data_balanced = pd.concat(frames)\n",
    "train, test = train_test_split(data_balanced, test_size=0.2)\n",
    "data_x_train = data_balanced['text']\n",
    "data_y_train = data_balanced['category']"
   ]
  },
  {
   "cell_type": "code",
   "execution_count": 65,
   "metadata": {},
   "outputs": [],
   "source": [
    "x_train , y_train = train['text'], train['category']\n",
    "x_test , y_test = test['text'], test['category']"
   ]
  },
  {
   "cell_type": "code",
   "execution_count": 23,
   "metadata": {},
   "outputs": [
    {
     "name": "stdout",
     "output_type": "stream",
     "text": [
      "Train-set size:  185\n",
      "Test-set size:   47\n"
     ]
    }
   ],
   "source": [
    "print(\"Train-set size: \", len(x_train))\n",
    "print(\"Test-set size:  \", len(x_test))"
   ]
  },
  {
   "cell_type": "code",
   "execution_count": 24,
   "metadata": {},
   "outputs": [],
   "source": [
    "max_tokens = seq_lim"
   ]
  },
  {
   "cell_type": "markdown",
   "metadata": {},
   "source": [
    "# Pre pad the sequence to make them equal length to feed the classifier"
   ]
  },
  {
   "cell_type": "code",
   "execution_count": 25,
   "metadata": {},
   "outputs": [],
   "source": [
    "pad = 'pre'"
   ]
  },
  {
   "cell_type": "code",
   "execution_count": 26,
   "metadata": {},
   "outputs": [],
   "source": [
    "x_train_pad = pad_sequences(x_train, maxlen=max_tokens,\n",
    "                            padding=pad, truncating=pad)\n",
    "x_test_pad = pad_sequences(x_test, maxlen=max_tokens,\n",
    "                           padding=pad, truncating=pad)\n",
    "data_x_train_pad = pad_sequences(data_x_train, maxlen=max_tokens,\n",
    "                           padding=pad, truncating=pad)"
   ]
  },
  {
   "cell_type": "code",
   "execution_count": 27,
   "metadata": {},
   "outputs": [],
   "source": [
    "embedding_size = seq_lim\n",
    "max_features = seq_lim\n",
    "epochs = 50\n",
    "modelh5 = 'HaptikGRUClassifier'\n",
    "loadmodelh5 = 'HaptikGRUClassifier-best'"
   ]
  },
  {
   "cell_type": "markdown",
   "metadata": {},
   "source": [
    "# The model is pretty simple, embedding layers, followed by GRU layers, binary crossentropy is the loss function, we use adam optimizer and we observe the accuracy"
   ]
  },
  {
   "cell_type": "code",
   "execution_count": 28,
   "metadata": {},
   "outputs": [
    {
     "name": "stdout",
     "output_type": "stream",
     "text": [
      "Building the model for the first time\n"
     ]
    }
   ],
   "source": [
    "try:\n",
    "    model = load_model(loadmodelh5 + '.h5')\n",
    "    print('Model loaded successfully')\n",
    "except IOError:\n",
    "    print('Building the model for the first time')\n",
    "    model = Sequential()\n",
    "    model.add(Embedding(input_dim=max_features,\n",
    "                        output_dim=128,\n",
    "                        input_length=seq_lim,\n",
    "                        name='layer_embedding'))\n",
    "    model.add(GRU(units=128, return_sequences=True))\n",
    "    model.add(GRU(units=8))\n",
    "    model.add(Dense(1, activation='sigmoid'))\n",
    "    model.compile(loss='binary_crossentropy',\n",
    "                  optimizer='adam',\n",
    "                  metrics=['accuracy'])\n",
    "savebestmodel = ModelCheckpoint(modelh5 + '-best.h5', monitor='loss', verbose=0, save_best_only=True)"
   ]
  },
  {
   "cell_type": "code",
   "execution_count": 29,
   "metadata": {},
   "outputs": [
    {
     "name": "stdout",
     "output_type": "stream",
     "text": [
      "_________________________________________________________________\n",
      "Layer (type)                 Output Shape              Param #   \n",
      "=================================================================\n",
      "layer_embedding (Embedding)  (None, 80, 128)           10240     \n",
      "_________________________________________________________________\n",
      "gru_1 (GRU)                  (None, 80, 128)           98688     \n",
      "_________________________________________________________________\n",
      "gru_2 (GRU)                  (None, 8)                 3288      \n",
      "_________________________________________________________________\n",
      "dense_1 (Dense)              (None, 1)                 9         \n",
      "=================================================================\n",
      "Total params: 112,225\n",
      "Trainable params: 112,225\n",
      "Non-trainable params: 0\n",
      "_________________________________________________________________\n"
     ]
    }
   ],
   "source": [
    "model.summary()"
   ]
  },
  {
   "cell_type": "code",
   "execution_count": 30,
   "metadata": {},
   "outputs": [
    {
     "name": "stdout",
     "output_type": "stream",
     "text": [
      "Train on 175 samples, validate on 10 samples\n",
      "Epoch 1/50\n",
      "175/175 [==============================] - 9s 50ms/step - loss: 0.6933 - acc: 0.2000 - val_loss: 0.6930 - val_acc: 0.5000\n",
      "Epoch 2/50\n",
      "175/175 [==============================] - 1s 5ms/step - loss: 0.6925 - acc: 0.5257 - val_loss: 0.6927 - val_acc: 0.5000\n",
      "Epoch 3/50\n",
      "175/175 [==============================] - 1s 5ms/step - loss: 0.6915 - acc: 0.5257 - val_loss: 0.6922 - val_acc: 0.5000\n",
      "Epoch 4/50\n",
      "175/175 [==============================] - 1s 7ms/step - loss: 0.6905 - acc: 0.5257 - val_loss: 0.6918 - val_acc: 0.5000\n",
      "Epoch 5/50\n",
      "175/175 [==============================] - 1s 8ms/step - loss: 0.6892 - acc: 0.5543 - val_loss: 0.6911 - val_acc: 0.5000\n",
      "Epoch 6/50\n",
      "175/175 [==============================] - 1s 7ms/step - loss: 0.6878 - acc: 0.5543 - val_loss: 0.6902 - val_acc: 0.5000\n",
      "Epoch 7/50\n",
      "175/175 [==============================] - 1s 5ms/step - loss: 0.6860 - acc: 0.5543 - val_loss: 0.6889 - val_acc: 0.5000\n",
      "Epoch 8/50\n",
      "175/175 [==============================] - 1s 4ms/step - loss: 0.6835 - acc: 0.5771 - val_loss: 0.6867 - val_acc: 0.6000\n",
      "Epoch 9/50\n",
      "175/175 [==============================] - 1s 4ms/step - loss: 0.6801 - acc: 0.5886 - val_loss: 0.6835 - val_acc: 0.6000\n",
      "Epoch 10/50\n",
      "175/175 [==============================] - 1s 3ms/step - loss: 0.6754 - acc: 0.6343 - val_loss: 0.6787 - val_acc: 0.6000\n",
      "Epoch 11/50\n",
      "175/175 [==============================] - 1s 4ms/step - loss: 0.6687 - acc: 0.6857 - val_loss: 0.6717 - val_acc: 0.7000\n",
      "Epoch 12/50\n",
      "175/175 [==============================] - 1s 3ms/step - loss: 0.6591 - acc: 0.7029 - val_loss: 0.6616 - val_acc: 0.7000\n",
      "Epoch 13/50\n",
      "175/175 [==============================] - 1s 3ms/step - loss: 0.6454 - acc: 0.7543 - val_loss: 0.6470 - val_acc: 0.7000\n",
      "Epoch 14/50\n",
      "175/175 [==============================] - 0s 2ms/step - loss: 0.6254 - acc: 0.7886 - val_loss: 0.6272 - val_acc: 0.7000\n",
      "Epoch 15/50\n",
      "175/175 [==============================] - 0s 2ms/step - loss: 0.5975 - acc: 0.8057 - val_loss: 0.6042 - val_acc: 0.7000\n",
      "Epoch 16/50\n",
      "175/175 [==============================] - 0s 2ms/step - loss: 0.5628 - acc: 0.8229 - val_loss: 0.5954 - val_acc: 0.7000\n",
      "Epoch 17/50\n",
      "175/175 [==============================] - 0s 2ms/step - loss: 0.5456 - acc: 0.7943 - val_loss: 0.6145 - val_acc: 0.4000\n",
      "Epoch 18/50\n",
      "175/175 [==============================] - 0s 2ms/step - loss: 0.5680 - acc: 0.6400 - val_loss: 0.5913 - val_acc: 0.7000\n",
      "Epoch 19/50\n",
      "175/175 [==============================] - 0s 2ms/step - loss: 0.5334 - acc: 0.7943 - val_loss: 0.5804 - val_acc: 0.7000\n",
      "Epoch 20/50\n",
      "175/175 [==============================] - 0s 2ms/step - loss: 0.5133 - acc: 0.8171 - val_loss: 0.5810 - val_acc: 0.7000\n",
      "Epoch 21/50\n",
      "175/175 [==============================] - 0s 2ms/step - loss: 0.5104 - acc: 0.8229 - val_loss: 0.5837 - val_acc: 0.7000\n",
      "Epoch 22/50\n",
      "175/175 [==============================] - 0s 2ms/step - loss: 0.5105 - acc: 0.8171 - val_loss: 0.5851 - val_acc: 0.7000\n",
      "Epoch 23/50\n",
      "175/175 [==============================] - 0s 2ms/step - loss: 0.5074 - acc: 0.8057 - val_loss: 0.5848 - val_acc: 0.7000\n",
      "Epoch 24/50\n",
      "175/175 [==============================] - 1s 5ms/step - loss: 0.4994 - acc: 0.8057 - val_loss: 0.5836 - val_acc: 0.7000\n",
      "Epoch 25/50\n",
      "175/175 [==============================] - 1s 8ms/step - loss: 0.4870 - acc: 0.8057 - val_loss: 0.5833 - val_acc: 0.7000\n",
      "Epoch 26/50\n",
      "175/175 [==============================] - 1s 5ms/step - loss: 0.4727 - acc: 0.8229 - val_loss: 0.5857 - val_acc: 0.7000\n",
      "Epoch 27/50\n",
      "175/175 [==============================] - 1s 5ms/step - loss: 0.4609 - acc: 0.8229 - val_loss: 0.5911 - val_acc: 0.7000\n",
      "Epoch 28/50\n",
      "175/175 [==============================] - 1s 4ms/step - loss: 0.4578 - acc: 0.8286 - val_loss: 0.5982 - val_acc: 0.7000\n",
      "Epoch 29/50\n",
      "175/175 [==============================] - 1s 4ms/step - loss: 0.4616 - acc: 0.8114 - val_loss: 0.6050 - val_acc: 0.7000\n",
      "Epoch 30/50\n",
      "175/175 [==============================] - 1s 3ms/step - loss: 0.4574 - acc: 0.8171 - val_loss: 0.6138 - val_acc: 0.7000\n",
      "Epoch 31/50\n",
      "175/175 [==============================] - 1s 3ms/step - loss: 0.4480 - acc: 0.8286 - val_loss: 0.6246 - val_acc: 0.7000\n",
      "Epoch 32/50\n",
      "175/175 [==============================] - 1s 5ms/step - loss: 0.4447 - acc: 0.8286 - val_loss: 0.6348 - val_acc: 0.7000\n",
      "Epoch 33/50\n",
      "175/175 [==============================] - 1s 5ms/step - loss: 0.4470 - acc: 0.8229 - val_loss: 0.6436 - val_acc: 0.7000\n",
      "Epoch 34/50\n",
      "175/175 [==============================] - 1s 5ms/step - loss: 0.4498 - acc: 0.8171 - val_loss: 0.6514 - val_acc: 0.7000\n",
      "Epoch 35/50\n",
      "175/175 [==============================] - 1s 6ms/step - loss: 0.4496 - acc: 0.8171 - val_loss: 0.6579 - val_acc: 0.7000\n",
      "Epoch 36/50\n",
      "175/175 [==============================] - 1s 5ms/step - loss: 0.4466 - acc: 0.8229 - val_loss: 0.6625 - val_acc: 0.7000\n",
      "Epoch 37/50\n",
      "175/175 [==============================] - 1s 5ms/step - loss: 0.4433 - acc: 0.8286 - val_loss: 0.6643 - val_acc: 0.7000\n",
      "Epoch 38/50\n",
      "175/175 [==============================] - 1s 6ms/step - loss: 0.4437 - acc: 0.8286 - val_loss: 0.6647 - val_acc: 0.7000\n",
      "Epoch 39/50\n",
      "175/175 [==============================] - 1s 5ms/step - loss: 0.4470 - acc: 0.8286 - val_loss: 0.6673 - val_acc: 0.7000\n",
      "Epoch 40/50\n",
      "175/175 [==============================] - 1s 5ms/step - loss: 0.4472 - acc: 0.8286 - val_loss: 0.6725 - val_acc: 0.7000\n",
      "Epoch 41/50\n",
      "175/175 [==============================] - 1s 5ms/step - loss: 0.4442 - acc: 0.8286 - val_loss: 0.6766 - val_acc: 0.7000\n",
      "Epoch 42/50\n",
      "175/175 [==============================] - 1s 5ms/step - loss: 0.4430 - acc: 0.8286 - val_loss: 0.6780 - val_acc: 0.7000\n",
      "Epoch 43/50\n",
      "175/175 [==============================] - 1s 6ms/step - loss: 0.4442 - acc: 0.8286 - val_loss: 0.6775 - val_acc: 0.7000\n",
      "Epoch 44/50\n",
      "175/175 [==============================] - 1s 5ms/step - loss: 0.4451 - acc: 0.8286 - val_loss: 0.6759 - val_acc: 0.7000\n",
      "Epoch 45/50\n",
      "175/175 [==============================] - 1s 6ms/step - loss: 0.4442 - acc: 0.8286 - val_loss: 0.6731 - val_acc: 0.7000\n",
      "Epoch 46/50\n",
      "175/175 [==============================] - 1s 6ms/step - loss: 0.4422 - acc: 0.8286 - val_loss: 0.6691 - val_acc: 0.7000\n",
      "Epoch 47/50\n",
      "175/175 [==============================] - 1s 5ms/step - loss: 0.4410 - acc: 0.8286 - val_loss: 0.6643 - val_acc: 0.7000\n",
      "Epoch 48/50\n",
      "175/175 [==============================] - 1s 5ms/step - loss: 0.4413 - acc: 0.8286 - val_loss: 0.6601 - val_acc: 0.7000\n",
      "Epoch 49/50\n",
      "175/175 [==============================] - 1s 5ms/step - loss: 0.4415 - acc: 0.8286 - val_loss: 0.6573 - val_acc: 0.7000\n",
      "Epoch 50/50\n",
      "175/175 [==============================] - 1s 5ms/step - loss: 0.4402 - acc: 0.8286 - val_loss: 0.6548 - val_acc: 0.7000\n",
      "Wall time: 56 s\n"
     ]
    },
    {
     "data": {
      "text/plain": [
       "<keras.callbacks.History at 0xe479823ba8>"
      ]
     },
     "execution_count": 30,
     "metadata": {},
     "output_type": "execute_result"
    }
   ],
   "source": [
    "%%time\n",
    "model.fit(x_train_pad, y_train,\n",
    "          validation_split=0.05, epochs=epochs, batch_size=256, callbacks=[savebestmodel])"
   ]
  },
  {
   "cell_type": "code",
   "execution_count": 31,
   "metadata": {},
   "outputs": [
    {
     "name": "stdout",
     "output_type": "stream",
     "text": [
      "47/47 [==============================] - 0s 4ms/step\n",
      "Wall time: 202 ms\n"
     ]
    }
   ],
   "source": [
    "%%time\n",
    "result = model.evaluate(x_test_pad, y_test, batch_size=256)"
   ]
  },
  {
   "cell_type": "code",
   "execution_count": 32,
   "metadata": {},
   "outputs": [
    {
     "name": "stdout",
     "output_type": "stream",
     "text": [
      "             precision    recall  f1-score   support\n",
      "\n",
      "          0       0.87      0.74      0.80        90\n",
      "          1       0.79      0.89      0.84        95\n",
      "\n",
      "avg / total       0.83      0.82      0.82       185\n",
      "\n"
     ]
    }
   ],
   "source": [
    "y_true, y_prob = y_train, model.predict(x_train_pad, batch_size=512)\n",
    "y_pred = y_prob >= 0.5\n",
    "print(classification_report(y_true, y_pred))"
   ]
  },
  {
   "cell_type": "code",
   "execution_count": 33,
   "metadata": {},
   "outputs": [
    {
     "name": "stdout",
     "output_type": "stream",
     "text": [
      "             precision    recall  f1-score   support\n",
      "\n",
      "          0       0.95      0.77      0.85        26\n",
      "          1       0.77      0.95      0.85        21\n",
      "\n",
      "avg / total       0.87      0.85      0.85        47\n",
      "\n"
     ]
    }
   ],
   "source": [
    "y_true, y_prob = y_test, model.predict(x_test_pad, batch_size=512)\n",
    "y_pred = y_prob >= 0.5\n",
    "print(classification_report(y_true, y_pred))"
   ]
  },
  {
   "cell_type": "markdown",
   "metadata": {},
   "source": [
    "# F1-Score of 0.81 on training set and 0.85 on test set is a pretty good score, given that we have limited knowledge of the input data"
   ]
  },
  {
   "cell_type": "code",
   "execution_count": 70,
   "metadata": {},
   "outputs": [
    {
     "name": "stdout",
     "output_type": "stream",
     "text": [
      "Train on 208 samples, validate on 24 samples\n",
      "Epoch 1/15\n",
      "208/208 [==============================] - 1s 5ms/step - loss: 0.3583 - acc: 0.8702 - val_loss: 0.7272 - val_acc: 0.7083\n",
      "Epoch 2/15\n",
      "208/208 [==============================] - 1s 4ms/step - loss: 0.3569 - acc: 0.8702 - val_loss: 0.7185 - val_acc: 0.7083\n",
      "Epoch 3/15\n",
      "208/208 [==============================] - 1s 4ms/step - loss: 0.3558 - acc: 0.8702 - val_loss: 0.7102 - val_acc: 0.7083\n",
      "Epoch 4/15\n",
      "208/208 [==============================] - 1s 4ms/step - loss: 0.3548 - acc: 0.8606 - val_loss: 0.7025 - val_acc: 0.7083\n",
      "Epoch 5/15\n",
      "208/208 [==============================] - 1s 4ms/step - loss: 0.3539 - acc: 0.8606 - val_loss: 0.6960 - val_acc: 0.7083\n",
      "Epoch 6/15\n",
      "208/208 [==============================] - 1s 4ms/step - loss: 0.3531 - acc: 0.8654 - val_loss: 0.6913 - val_acc: 0.7083\n",
      "Epoch 7/15\n",
      "208/208 [==============================] - 1s 5ms/step - loss: 0.3523 - acc: 0.8654 - val_loss: 0.6890 - val_acc: 0.7083\n",
      "Epoch 8/15\n",
      "208/208 [==============================] - 1s 4ms/step - loss: 0.3514 - acc: 0.8654 - val_loss: 0.6890 - val_acc: 0.7083\n",
      "Epoch 9/15\n",
      "208/208 [==============================] - 1s 4ms/step - loss: 0.3504 - acc: 0.8654 - val_loss: 0.6913 - val_acc: 0.7083\n",
      "Epoch 10/15\n",
      "208/208 [==============================] - 1s 5ms/step - loss: 0.3493 - acc: 0.8654 - val_loss: 0.6958 - val_acc: 0.7083\n",
      "Epoch 11/15\n",
      "208/208 [==============================] - 1s 5ms/step - loss: 0.3481 - acc: 0.8654 - val_loss: 0.7018 - val_acc: 0.7083\n",
      "Epoch 12/15\n",
      "208/208 [==============================] - 1s 5ms/step - loss: 0.3469 - acc: 0.8654 - val_loss: 0.7091 - val_acc: 0.7083\n",
      "Epoch 13/15\n",
      "208/208 [==============================] - 1s 4ms/step - loss: 0.3458 - acc: 0.8654 - val_loss: 0.7158 - val_acc: 0.7083\n",
      "Epoch 14/15\n",
      "208/208 [==============================] - 1s 4ms/step - loss: 0.3451 - acc: 0.8654 - val_loss: 0.7229 - val_acc: 0.7083\n",
      "Epoch 15/15\n",
      "208/208 [==============================] - 1s 5ms/step - loss: 0.3450 - acc: 0.8654 - val_loss: 0.7318 - val_acc: 0.7083\n",
      "Wall time: 15.8 s\n"
     ]
    },
    {
     "data": {
      "text/plain": [
       "<keras.callbacks.History at 0xe4794a3940>"
      ]
     },
     "execution_count": 70,
     "metadata": {},
     "output_type": "execute_result"
    }
   ],
   "source": [
    "%%time\n",
    "model.fit(data_x_train_pad, data_y_train,\n",
    "          validation_split=0.1, epochs=15, batch_size=256, callbacks=[savebestmodel])"
   ]
  },
  {
   "cell_type": "code",
   "execution_count": 119,
   "metadata": {},
   "outputs": [
    {
     "name": "stdout",
     "output_type": "stream",
     "text": [
      "             precision    recall  f1-score   support\n",
      "\n",
      "          0       0.89      0.81      0.85       116\n",
      "          1       0.83      0.90      0.86       116\n",
      "\n",
      "avg / total       0.86      0.85      0.85       232\n",
      "\n"
     ]
    }
   ],
   "source": [
    "y_true, y_prob = data_y_train, model.predict(data_x_train_pad, batch_size=512)\n",
    "y_pred = y_prob >= 0.5\n",
    "print(classification_report(y_true, y_pred))"
   ]
  },
  {
   "cell_type": "markdown",
   "metadata": {},
   "source": [
    "# Training on all the data for a few more epoachs, our F1-Score is pretty stable"
   ]
  },
  {
   "cell_type": "code",
   "execution_count": 120,
   "metadata": {},
   "outputs": [
    {
     "data": {
      "image/png": "[encoded data removed]",
      "text/plain": [
       "<matplotlib.figure.Figure at 0xe46a002e10>"
      ]
     },
     "metadata": {
      "needs_background": "light"
     },
     "output_type": "display_data"
    },
    {
     "data": {
      "image/png": "[encoded data removed]",
      "text/plain": [
       "<matplotlib.figure.Figure at 0xe493ec7cc0>"
      ]
     },
     "metadata": {
      "needs_background": "light"
     },
     "output_type": "display_data"
    }
   ],
   "source": [
    "data = pd.read_csv('test.csv')\n",
    "\n",
    "data.head()\n",
    "\n",
    "ids = data['id']\n",
    "\n",
    "data.drop(columns='id', inplace=True)\n",
    "\n",
    "x_train = [el.split(' ') for el in data['text']]\n",
    "\n",
    "num_tokens = [len(tokens) for tokens in x_train]\n",
    "\n",
    "lengths = pd.DataFrame(data=num_tokens)\n",
    "\n",
    "lengths.head()\n",
    "\n",
    "lengths.describe()\n",
    "\n",
    "lengths.hist(bins=125)\n",
    "\n",
    "x_train = [el[0:125] for el in x_train]\n",
    "\n",
    "num_tokens = [len(tokens) for tokens in x_train]\n",
    "\n",
    "lengths = pd.DataFrame(data=num_tokens)\n",
    "\n",
    "lengths.head()\n",
    "\n",
    "lengths.describe()\n",
    "\n",
    "lengths.hist(bins=125)\n",
    "\n",
    "data['text'] = x_train"
   ]
  },
  {
   "cell_type": "markdown",
   "metadata": {},
   "source": [
    "# The test set distribution is different from the training set, this would cause the test set results to be of lower accuracy"
   ]
  },
  {
   "cell_type": "code",
   "execution_count": 121,
   "metadata": {},
   "outputs": [
    {
     "data": {
      "text/html": [
       "<div>\n",
       "<style scoped>\n",
       "    .dataframe tbody tr th:only-of-type {\n",
       "        vertical-align: middle;\n",
       "    }\n",
       "\n",
       "    .dataframe tbody tr th {\n",
       "        vertical-align: top;\n",
       "    }\n",
       "\n",
       "    .dataframe thead th {\n",
       "        text-align: right;\n",
       "    }\n",
       "</style>\n",
       "<table border=\"1\" class=\"dataframe\">\n",
       "  <thead>\n",
       "    <tr style=\"text-align: right;\">\n",
       "      <th></th>\n",
       "      <th>text</th>\n",
       "    </tr>\n",
       "  </thead>\n",
       "  <tbody>\n",
       "    <tr>\n",
       "      <th>0</th>\n",
       "      <td>[2705, 4888, 5050, 5815, 2472, 5157, 652, 2117...</td>\n",
       "    </tr>\n",
       "    <tr>\n",
       "      <th>1</th>\n",
       "      <td>[389, 4978, 315, 5178, 513, 5249, 5853, 3267, ...</td>\n",
       "    </tr>\n",
       "    <tr>\n",
       "      <th>2</th>\n",
       "      <td>[4478, 4231, 4858, 2638, 4231, 867, 371, 686, ...</td>\n",
       "    </tr>\n",
       "    <tr>\n",
       "      <th>3</th>\n",
       "      <td>[3015, 1911, 112, 3905, 825, 337, 315, 1693, 4...</td>\n",
       "    </tr>\n",
       "    <tr>\n",
       "      <th>4</th>\n",
       "      <td>[5136, 3918, 5153, 2023, 3091, 4159, 315, 3711...</td>\n",
       "    </tr>\n",
       "  </tbody>\n",
       "</table>\n",
       "</div>"
      ],
      "text/plain": [
       "                                                text\n",
       "0  [2705, 4888, 5050, 5815, 2472, 5157, 652, 2117...\n",
       "1  [389, 4978, 315, 5178, 513, 5249, 5853, 3267, ...\n",
       "2  [4478, 4231, 4858, 2638, 4231, 867, 371, 686, ...\n",
       "3  [3015, 1911, 112, 3905, 825, 337, 315, 1693, 4...\n",
       "4  [5136, 3918, 5153, 2023, 3091, 4159, 315, 3711..."
      ]
     },
     "execution_count": 121,
     "metadata": {},
     "output_type": "execute_result"
    }
   ],
   "source": [
    "data.head()"
   ]
  },
  {
   "cell_type": "code",
   "execution_count": 122,
   "metadata": {},
   "outputs": [],
   "source": [
    "pad = 'pre'\n",
    "x_test_pad = pad_sequences(data['text'], maxlen=max_tokens,\n",
    "                           padding=pad, truncating=pad)"
   ]
  },
  {
   "cell_type": "markdown",
   "metadata": {},
   "source": [
    "# I've made an error above, the \"truncating=pad\" would lead to [45:125] being considered as the sequence for the longer sequences but in training [0:80] was being considered.\n",
    "# Given the longer sequences are very few, I don't think it would cause and major change is results even if this is fixed.\n",
    "# For the smaller sequence there wold be no effects"
   ]
  },
  {
   "cell_type": "code",
   "execution_count": 123,
   "metadata": {},
   "outputs": [],
   "source": [
    "y_prob = model.predict(x_test_pad, batch_size=512)\n",
    "y_pred = y_prob >= 0.5"
   ]
  },
  {
   "cell_type": "code",
   "execution_count": 124,
   "metadata": {},
   "outputs": [],
   "source": [
    "y_pred = y_pred.astype(int)"
   ]
  },
  {
   "cell_type": "code",
   "execution_count": 125,
   "metadata": {},
   "outputs": [],
   "source": [
    "res = pd.DataFrame(data=ids)"
   ]
  },
  {
   "cell_type": "code",
   "execution_count": 126,
   "metadata": {},
   "outputs": [
    {
     "data": {
      "text/html": [
       "<div>\n",
       "<style scoped>\n",
       "    .dataframe tbody tr th:only-of-type {\n",
       "        vertical-align: middle;\n",
       "    }\n",
       "\n",
       "    .dataframe tbody tr th {\n",
       "        vertical-align: top;\n",
       "    }\n",
       "\n",
       "    .dataframe thead th {\n",
       "        text-align: right;\n",
       "    }\n",
       "</style>\n",
       "<table border=\"1\" class=\"dataframe\">\n",
       "  <thead>\n",
       "    <tr style=\"text-align: right;\">\n",
       "      <th></th>\n",
       "      <th>id</th>\n",
       "    </tr>\n",
       "  </thead>\n",
       "  <tbody>\n",
       "    <tr>\n",
       "      <th>0</th>\n",
       "      <td>3729</td>\n",
       "    </tr>\n",
       "    <tr>\n",
       "      <th>1</th>\n",
       "      <td>3732</td>\n",
       "    </tr>\n",
       "    <tr>\n",
       "      <th>2</th>\n",
       "      <td>3761</td>\n",
       "    </tr>\n",
       "    <tr>\n",
       "      <th>3</th>\n",
       "      <td>5</td>\n",
       "    </tr>\n",
       "    <tr>\n",
       "      <th>4</th>\n",
       "      <td>7</td>\n",
       "    </tr>\n",
       "  </tbody>\n",
       "</table>\n",
       "</div>"
      ],
      "text/plain": [
       "     id\n",
       "0  3729\n",
       "1  3732\n",
       "2  3761\n",
       "3     5\n",
       "4     7"
      ]
     },
     "execution_count": 126,
     "metadata": {},
     "output_type": "execute_result"
    }
   ],
   "source": [
    "res.head()"
   ]
  },
  {
   "cell_type": "code",
   "execution_count": 127,
   "metadata": {},
   "outputs": [],
   "source": [
    "res['category'] = y_pred"
   ]
  },
  {
   "cell_type": "code",
   "execution_count": 128,
   "metadata": {},
   "outputs": [],
   "source": [
    "res.to_csv('submission.csv', index=False)"
   ]
  },
  {
   "cell_type": "code",
   "execution_count": 129,
   "metadata": {},
   "outputs": [
    {
     "name": "stdout",
     "output_type": "stream",
     "text": [
      "[[1]\n",
      " [1]\n",
      " [1]\n",
      " ...\n",
      " [1]\n",
      " [1]\n",
      " [1]]\n"
     ]
    }
   ],
   "source": [
    "print(y_pred)"
   ]
  },
  {
   "cell_type": "code",
   "execution_count": 83,
   "metadata": {},
   "outputs": [
    {
     "data": {
      "text/plain": [
       "array([[   0,    0,    0, ..., 1280, 2402, 2408],\n",
       "       [   0,    0,    0, ...,  819, 5773,  332],\n",
       "       [   0,    0,    0, ..., 1940, 3708, 3872],\n",
       "       ...,\n",
       "       [   0,    0,    0, ...,    0,    0, 7513],\n",
       "       [   0,    0,    0, ..., 1543, 2734, 3078],\n",
       "       [   0,    0,    0, ..., 4677, 5620, 3078]])"
      ]
     },
     "execution_count": 83,
     "metadata": {},
     "output_type": "execute_result"
    }
   ],
   "source": [
    "data_x_train_pad"
   ]
  },
  {
   "cell_type": "code",
   "execution_count": 85,
   "metadata": {},
   "outputs": [
    {
     "data": {
      "text/plain": [
       "(232, 80)"
      ]
     },
     "execution_count": 85,
     "metadata": {},
     "output_type": "execute_result"
    }
   ],
   "source": [
    "data_x_train_pad.shape"
   ]
  },
  {
   "cell_type": "code",
   "execution_count": 86,
   "metadata": {},
   "outputs": [
    {
     "data": {
      "text/plain": [
       "(1360, 80)"
      ]
     },
     "execution_count": 86,
     "metadata": {},
     "output_type": "execute_result"
    }
   ],
   "source": [
    "x_test_pad.shape"
   ]
  },
  {
   "cell_type": "markdown",
   "metadata": {},
   "source": [
    "# We got results of ~ 0.78 / 0.79 via skillenza's report for the above type of models\n",
    "# Given that the distributions of the test set is different and we have nearly 80% predictability for our model, we include our predicted results as true results and run the model again for 15 epoachs"
   ]
  },
  {
   "cell_type": "code",
   "execution_count": 113,
   "metadata": {},
   "outputs": [],
   "source": [
    "new_train_data = np.concatenate((data_x_train_pad, x_test_pad), axis=0)"
   ]
  },
  {
   "cell_type": "code",
   "execution_count": 114,
   "metadata": {},
   "outputs": [
    {
     "data": {
      "text/plain": [
       "(1592, 80)"
      ]
     },
     "execution_count": 114,
     "metadata": {},
     "output_type": "execute_result"
    }
   ],
   "source": [
    "new_train_data.shape"
   ]
  },
  {
   "cell_type": "code",
   "execution_count": 115,
   "metadata": {},
   "outputs": [
    {
     "data": {
      "text/plain": [
       "(232,)"
      ]
     },
     "execution_count": 115,
     "metadata": {},
     "output_type": "execute_result"
    }
   ],
   "source": [
    "data_y_train.shape"
   ]
  },
  {
   "cell_type": "code",
   "execution_count": 116,
   "metadata": {},
   "outputs": [
    {
     "data": {
      "text/plain": [
       "(1360, 1)"
      ]
     },
     "execution_count": 116,
     "metadata": {},
     "output_type": "execute_result"
    }
   ],
   "source": [
    "y_pred.shape"
   ]
  },
  {
   "cell_type": "code",
   "execution_count": 117,
   "metadata": {},
   "outputs": [],
   "source": [
    "new_train_y = np.concatenate((np.array(data_y_train).reshape(232,1), y_pred), axis=0)"
   ]
  },
  {
   "cell_type": "code",
   "execution_count": 118,
   "metadata": {},
   "outputs": [
    {
     "name": "stdout",
     "output_type": "stream",
     "text": [
      "Train on 1432 samples, validate on 160 samples\n",
      "Epoch 1/15\n",
      "1432/1432 [==============================] - 5s 3ms/step - loss: 0.1496 - acc: 0.9532 - val_loss: 0.0680 - val_acc: 1.0000\n",
      "Epoch 2/15\n",
      "1432/1432 [==============================] - 5s 3ms/step - loss: 0.1428 - acc: 0.9609 - val_loss: 0.0699 - val_acc: 0.9750\n",
      "Epoch 3/15\n",
      "1432/1432 [==============================] - 5s 3ms/step - loss: 0.1319 - acc: 0.9588 - val_loss: 0.0821 - val_acc: 0.9812\n",
      "Epoch 4/15\n",
      "1432/1432 [==============================] - 5s 3ms/step - loss: 0.1389 - acc: 0.9539 - val_loss: 0.0716 - val_acc: 1.0000\n",
      "Epoch 5/15\n",
      "1432/1432 [==============================] - 5s 3ms/step - loss: 0.1248 - acc: 0.9707 - val_loss: 0.0783 - val_acc: 0.9937\n",
      "Epoch 6/15\n",
      "1432/1432 [==============================] - 5s 3ms/step - loss: 0.1245 - acc: 0.9749 - val_loss: 0.0735 - val_acc: 0.9937\n",
      "Epoch 7/15\n",
      "1432/1432 [==============================] - 5s 3ms/step - loss: 0.1225 - acc: 0.9735 - val_loss: 0.0606 - val_acc: 1.0000\n",
      "Epoch 8/15\n",
      "1432/1432 [==============================] - 5s 3ms/step - loss: 0.1214 - acc: 0.9714 - val_loss: 0.0639 - val_acc: 0.9937\n",
      "Epoch 9/15\n",
      "1432/1432 [==============================] - 5s 4ms/step - loss: 0.1197 - acc: 0.9763 - val_loss: 0.0624 - val_acc: 0.9937\n",
      "Epoch 10/15\n",
      "1432/1432 [==============================] - 6s 4ms/step - loss: 0.1189 - acc: 0.9756 - val_loss: 0.0608 - val_acc: 0.9937\n",
      "Epoch 11/15\n",
      "1432/1432 [==============================] - 3s 2ms/step - loss: 0.1178 - acc: 0.9763 - val_loss: 0.0529 - val_acc: 0.9937\n",
      "Epoch 12/15\n",
      "1432/1432 [==============================] - 4s 2ms/step - loss: 0.1180 - acc: 0.9735 - val_loss: 0.0536 - val_acc: 0.9812\n",
      "Epoch 13/15\n",
      "1432/1432 [==============================] - 5s 3ms/step - loss: 0.1173 - acc: 0.9721 - val_loss: 0.0537 - val_acc: 1.0000\n",
      "Epoch 14/15\n",
      "1432/1432 [==============================] - 5s 3ms/step - loss: 0.1180 - acc: 0.9763 - val_loss: 0.0533 - val_acc: 0.9812\n",
      "Epoch 15/15\n",
      "1432/1432 [==============================] - 5s 3ms/step - loss: 0.1204 - acc: 0.9679 - val_loss: 0.0479 - val_acc: 1.0000\n",
      "Wall time: 1min 9s\n"
     ]
    },
    {
     "data": {
      "text/plain": [
       "<keras.callbacks.History at 0xe48c9fbf28>"
      ]
     },
     "execution_count": 118,
     "metadata": {},
     "output_type": "execute_result"
    }
   ],
   "source": [
    "%%time\n",
    "model.fit(new_train_data, new_train_y,\n",
    "          validation_split=0.1, epochs=15, batch_size=256, callbacks=[savebestmodel])"
   ]
  },
  {
   "cell_type": "code",
   "execution_count": null,
   "metadata": {},
   "outputs": [],
   "source": [
    "y_prob = model.predict(x_test_pad, batch_size=512)\n",
    "y_pred = y_prob >= 0.5\n",
    "y_pred = y_pred.astype(int)\n",
    "res = pd.DataFrame(data=ids)\n",
    "res['category'] = y_pred\n",
    "res.to_csv('submission.csv', index=False)"
   ]
  },
  {
   "cell_type": "markdown",
   "metadata": {},
   "source": [
    "# This gives us the extra 1 to 2% boost in result accuracy"
   ]
  },
  {
   "cell_type": "markdown",
   "metadata": {},
   "source": [
    "# Summary\n",
    "## Things that could have been tried\n",
    "<ol>\n",
    "    <li>Different way to compress data</li>\n",
    "    <li>Other RNN networks like LSTM's</li>\n",
    "    <li>Have a different model for greater than 80 sequences examples</li>\n",
    "    <li>Different architectures</li>\n",
    "    <li>Ensembles models for the various models we build</li>\n",
    "</ol>\n",
    "\n",
    "### It was a nice challenge, You can check my other works at https://git.io/fjf20\n",
    "### Thank you"
   ]
  }
 ],
 "metadata": {
  "kernelspec": {
   "display_name": "Python 3",
   "language": "python",
   "name": "python3"
  },
  "language_info": {
   "codemirror_mode": {
    "name": "ipython",
    "version": 3
   },
   "file_extension": ".py",
   "mimetype": "text/x-python",
   "name": "python",
   "nbconvert_exporter": "python",
   "pygments_lexer": "ipython3",
   "version": "3.6.3"
  }
 },
 "nbformat": 4,
 "nbformat_minor": 2
}
